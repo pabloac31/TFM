{
 "cells": [
  {
   "cell_type": "code",
   "execution_count": 128,
   "metadata": {},
   "outputs": [],
   "source": [
    "import pandas as pd\n",
    "import numpy as np\n",
    "import matplotlib.pyplot as plt\n",
    "import seaborn as sns\n",
    "\n",
    "import statsmodels.api as sm\n",
    "\n",
    "from sklearn.linear_model import LogisticRegression\n",
    "from sklearn.metrics import accuracy_score, confusion_matrix, roc_curve, auc\n",
    "\n",
    "pd.set_option('display.max_columns', 100)\n",
    "pd.options.mode.chained_assignment = None  # default='warn'"
   ]
  },
  {
   "cell_type": "markdown",
   "metadata": {},
   "source": [
    "### Reading data"
   ]
  },
  {
   "cell_type": "code",
   "execution_count": 2,
   "metadata": {},
   "outputs": [
    {
     "data": {
      "text/plain": [
       "(408, 92)"
      ]
     },
     "execution_count": 2,
     "metadata": {},
     "output_type": "execute_result"
    }
   ],
   "source": [
    "data = pd.read_excel('Oncothromb_bbddMarzo2018.xlsx')\n",
    "data.shape"
   ]
  },
  {
   "cell_type": "code",
   "execution_count": 3,
   "metadata": {},
   "outputs": [
    {
     "data": {
      "text/plain": [
       "(391, 92)"
      ]
     },
     "execution_count": 3,
     "metadata": {},
     "output_type": "execute_result"
    }
   ],
   "source": [
    "# considering only rows where 'excluido==0'\n",
    "data = data[data['excluido']==0]\n",
    "data.shape # 391 patients"
   ]
  },
  {
   "cell_type": "markdown",
   "metadata": {},
   "source": [
    "### Target variable"
   ]
  },
  {
   "cell_type": "code",
   "execution_count": 4,
   "metadata": {},
   "outputs": [
    {
     "name": "stdout",
     "output_type": "stream",
     "text": [
      "['Sí' 'No' '-']\n"
     ]
    }
   ],
   "source": [
    "# target variable 'v0_episodiETV' indicates wheter the patient has sufferend an VTE or not\n",
    "print(data['v0_episodiETV'].unique())"
   ]
  },
  {
   "cell_type": "code",
   "execution_count": 5,
   "metadata": {},
   "outputs": [
    {
     "data": {
      "text/plain": [
       "array(['Sí', 'No'], dtype=object)"
      ]
     },
     "execution_count": 5,
     "metadata": {},
     "output_type": "execute_result"
    }
   ],
   "source": [
    "data.loc[data['v0_episodiETV']=='-','v0_episodiETV'] = 'No'  # imputing missing value\n",
    "\n",
    "y = data['v0_episodiETV'].copy()\n",
    "y.unique()"
   ]
  },
  {
   "cell_type": "code",
   "execution_count": 6,
   "metadata": {
    "scrolled": false
   },
   "outputs": [
    {
     "data": {
      "image/png": "[encoded data removed]",
      "text/plain": [
       "<Figure size 432x288 with 1 Axes>"
      ]
     },
     "metadata": {
      "needs_background": "light"
     },
     "output_type": "display_data"
    }
   ],
   "source": [
    "ax = sns.countplot(y)\n",
    "plt.show()"
   ]
  },
  {
   "cell_type": "code",
   "execution_count": 7,
   "metadata": {},
   "outputs": [],
   "source": [
    "y.replace('No', 0, inplace=True)\n",
    "y.replace('Sí', 1, inplace=True)"
   ]
  },
  {
   "cell_type": "code",
   "execution_count": 8,
   "metadata": {},
   "outputs": [
    {
     "data": {
      "text/plain": [
       "(361, 30)"
      ]
     },
     "execution_count": 8,
     "metadata": {},
     "output_type": "execute_result"
    }
   ],
   "source": [
    "len(y[y==0]), len(y[y==1])"
   ]
  },
  {
   "cell_type": "markdown",
   "metadata": {},
   "source": [
    "### Genetic variables"
   ]
  },
  {
   "cell_type": "code",
   "execution_count": 9,
   "metadata": {},
   "outputs": [],
   "source": [
    "gen_data = data[['rs6025','rs4524','rs1799963','rs1801020','rs5985','rs121909548','rs2232698',\n",
    "                'rs8176719','rs7853989','rs8176749','rs8176750']]"
   ]
  },
  {
   "cell_type": "code",
   "execution_count": 10,
   "metadata": {},
   "outputs": [
    {
     "data": {
      "text/plain": [
       "(391, 11)"
      ]
     },
     "execution_count": 10,
     "metadata": {},
     "output_type": "execute_result"
    }
   ],
   "source": [
    "gen_data.shape"
   ]
  },
  {
   "cell_type": "code",
   "execution_count": 11,
   "metadata": {},
   "outputs": [
    {
     "name": "stdout",
     "output_type": "stream",
     "text": [
      "['GG' 'AG']\n"
     ]
    }
   ],
   "source": [
    "print(gen_data['rs6025'].unique()) # risk allele = A\n",
    "gen_data['rs6025'].replace('GG', 0, inplace=True)\n",
    "gen_data['rs6025'].replace('AG', 1, inplace=True)"
   ]
  },
  {
   "cell_type": "code",
   "execution_count": 12,
   "metadata": {},
   "outputs": [
    {
     "name": "stdout",
     "output_type": "stream",
     "text": [
      "['CT' 'TT' 'CC']\n"
     ]
    }
   ],
   "source": [
    "print(gen_data['rs4524'].unique()) # risk allele = T\n",
    "gen_data['rs4524'].replace('CC', 0, inplace=True)\n",
    "gen_data['rs4524'].replace('CT', 1, inplace=True)\n",
    "gen_data['rs4524'].replace('TT', 2, inplace=True)"
   ]
  },
  {
   "cell_type": "code",
   "execution_count": 13,
   "metadata": {},
   "outputs": [
    {
     "name": "stdout",
     "output_type": "stream",
     "text": [
      "['GG' 'AG' 'AA']\n"
     ]
    }
   ],
   "source": [
    "print(gen_data['rs1799963'].unique()) # risk allele = A\n",
    "gen_data['rs1799963'].replace('GG', 0, inplace=True)\n",
    "gen_data['rs1799963'].replace('AG', 1, inplace=True)\n",
    "gen_data['rs1799963'].replace('AA', 2, inplace=True)"
   ]
  },
  {
   "cell_type": "code",
   "execution_count": 14,
   "metadata": {},
   "outputs": [
    {
     "name": "stdout",
     "output_type": "stream",
     "text": [
      "['CC' 'CT' 'TT']\n"
     ]
    }
   ],
   "source": [
    "print(gen_data['rs1801020'].unique()) # risk allele = T\n",
    "gen_data['rs1801020'].replace('CC', 0, inplace=True)\n",
    "gen_data['rs1801020'].replace('CT', 1, inplace=True)\n",
    "gen_data['rs1801020'].replace('TT', 2, inplace=True)"
   ]
  },
  {
   "cell_type": "code",
   "execution_count": 15,
   "metadata": {},
   "outputs": [
    {
     "name": "stdout",
     "output_type": "stream",
     "text": [
      "['GT' 'GG' 'TT']\n"
     ]
    }
   ],
   "source": [
    "print(gen_data['rs5985'].unique()) # risk allele = T\n",
    "gen_data['rs5985'].replace('GG', 0, inplace=True)\n",
    "gen_data['rs5985'].replace('GT', 1, inplace=True)\n",
    "gen_data['rs5985'].replace('TT', 2, inplace=True)"
   ]
  },
  {
   "cell_type": "code",
   "execution_count": 16,
   "metadata": {},
   "outputs": [
    {
     "name": "stdout",
     "output_type": "stream",
     "text": [
      "['GG' 'NoCall' 'GT']\n"
     ]
    }
   ],
   "source": [
    "print(gen_data['rs121909548'].unique()) # risk allele = T\n",
    "gen_data['rs121909548'].replace('GG', 0, inplace=True)\n",
    "gen_data['rs121909548'].replace('GT', 1, inplace=True)\n",
    "# 2 missing values\n",
    "gen_data['rs121909548'].replace('NoCall', 0, inplace=True) # imputing nan values with 0"
   ]
  },
  {
   "cell_type": "code",
   "execution_count": 17,
   "metadata": {},
   "outputs": [
    {
     "name": "stdout",
     "output_type": "stream",
     "text": [
      "['CC' 'CT' 'NoCall']\n"
     ]
    }
   ],
   "source": [
    "print(gen_data['rs2232698'].unique()) # risk allele = T\n",
    "gen_data['rs2232698'].replace('CC', 0, inplace=True)\n",
    "gen_data['rs2232698'].replace('CT', 1, inplace=True)\n",
    "# 1 missing value\n",
    "gen_data['rs2232698'].replace('NoCall', 0, inplace=True) # imputing nan values with 0"
   ]
  },
  {
   "cell_type": "code",
   "execution_count": 18,
   "metadata": {},
   "outputs": [],
   "source": [
    "# A1 blood group (rs8176719, rs7853989, rs8176749, rs8176750)"
   ]
  },
  {
   "cell_type": "code",
   "execution_count": 19,
   "metadata": {},
   "outputs": [
    {
     "name": "stdout",
     "output_type": "stream",
     "text": [
      "['GG' '--' '-G']\n"
     ]
    }
   ],
   "source": [
    "print(gen_data['rs8176719'].unique()) # G\n",
    "gen_data['rs8176719'].replace('--', 0, inplace=True)\n",
    "gen_data['rs8176719'].replace('-G', 1, inplace=True)\n",
    "gen_data['rs8176719'].replace('GG', 2, inplace=True)"
   ]
  },
  {
   "cell_type": "code",
   "execution_count": 20,
   "metadata": {},
   "outputs": [
    {
     "name": "stdout",
     "output_type": "stream",
     "text": [
      "['CC' 'CG' 'NoCall' 'GG']\n"
     ]
    }
   ],
   "source": [
    "print(gen_data['rs7853989'].unique()) # G\n",
    "gen_data['rs7853989'].replace('CC', 0, inplace=True)\n",
    "gen_data['rs7853989'].replace('CG', 1, inplace=True)\n",
    "gen_data['rs7853989'].replace('GG', 2, inplace=True)\n",
    "# 2 missing values\n",
    "gen_data['rs7853989'].replace('NoCall', 0, inplace=True) # imputing nan values with 0"
   ]
  },
  {
   "cell_type": "code",
   "execution_count": 21,
   "metadata": {},
   "outputs": [
    {
     "name": "stdout",
     "output_type": "stream",
     "text": [
      "['GG' 'AG' 'NoCall']\n"
     ]
    }
   ],
   "source": [
    "print(gen_data['rs8176749'].unique()) # A\n",
    "gen_data['rs8176749'].replace('GG', 0, inplace=True)\n",
    "gen_data['rs8176749'].replace('AG', 1, inplace=True)\n",
    "# 1 missing value\n",
    "gen_data['rs8176749'].replace('NoCall', 0, inplace=True) # imputing nan values with 0"
   ]
  },
  {
   "cell_type": "code",
   "execution_count": 22,
   "metadata": {},
   "outputs": [
    {
     "name": "stdout",
     "output_type": "stream",
     "text": [
      "['CC' '-C' 'NoCall']\n"
     ]
    }
   ],
   "source": [
    "print(gen_data['rs8176750'].unique()) # -\n",
    "gen_data['rs8176750'].replace('CC', 0, inplace=True)\n",
    "gen_data['rs8176750'].replace('-C', 1, inplace=True)\n",
    "# 1 missing value\n",
    "gen_data['rs8176750'].replace('NoCall', 0, inplace=True) # imputing nan values with 0"
   ]
  },
  {
   "cell_type": "code",
   "execution_count": 23,
   "metadata": {},
   "outputs": [
    {
     "data": {
      "text/html": [
       "<div>\n",
       "<style scoped>\n",
       "    .dataframe tbody tr th:only-of-type {\n",
       "        vertical-align: middle;\n",
       "    }\n",
       "\n",
       "    .dataframe tbody tr th {\n",
       "        vertical-align: top;\n",
       "    }\n",
       "\n",
       "    .dataframe thead th {\n",
       "        text-align: right;\n",
       "    }\n",
       "</style>\n",
       "<table border=\"1\" class=\"dataframe\">\n",
       "  <thead>\n",
       "    <tr style=\"text-align: right;\">\n",
       "      <th></th>\n",
       "      <th>rs6025</th>\n",
       "      <th>rs4524</th>\n",
       "      <th>rs1799963</th>\n",
       "      <th>rs1801020</th>\n",
       "      <th>rs5985</th>\n",
       "      <th>rs121909548</th>\n",
       "      <th>rs2232698</th>\n",
       "      <th>rs8176719</th>\n",
       "      <th>rs7853989</th>\n",
       "      <th>rs8176749</th>\n",
       "      <th>rs8176750</th>\n",
       "    </tr>\n",
       "  </thead>\n",
       "  <tbody>\n",
       "    <tr>\n",
       "      <th>1</th>\n",
       "      <td>0</td>\n",
       "      <td>1</td>\n",
       "      <td>0</td>\n",
       "      <td>0</td>\n",
       "      <td>1</td>\n",
       "      <td>0</td>\n",
       "      <td>0</td>\n",
       "      <td>2</td>\n",
       "      <td>0</td>\n",
       "      <td>0</td>\n",
       "      <td>0</td>\n",
       "    </tr>\n",
       "    <tr>\n",
       "      <th>2</th>\n",
       "      <td>0</td>\n",
       "      <td>1</td>\n",
       "      <td>0</td>\n",
       "      <td>1</td>\n",
       "      <td>0</td>\n",
       "      <td>0</td>\n",
       "      <td>0</td>\n",
       "      <td>0</td>\n",
       "      <td>0</td>\n",
       "      <td>0</td>\n",
       "      <td>0</td>\n",
       "    </tr>\n",
       "    <tr>\n",
       "      <th>3</th>\n",
       "      <td>0</td>\n",
       "      <td>2</td>\n",
       "      <td>0</td>\n",
       "      <td>1</td>\n",
       "      <td>0</td>\n",
       "      <td>0</td>\n",
       "      <td>0</td>\n",
       "      <td>1</td>\n",
       "      <td>0</td>\n",
       "      <td>0</td>\n",
       "      <td>0</td>\n",
       "    </tr>\n",
       "    <tr>\n",
       "      <th>4</th>\n",
       "      <td>0</td>\n",
       "      <td>2</td>\n",
       "      <td>0</td>\n",
       "      <td>0</td>\n",
       "      <td>0</td>\n",
       "      <td>0</td>\n",
       "      <td>0</td>\n",
       "      <td>1</td>\n",
       "      <td>0</td>\n",
       "      <td>0</td>\n",
       "      <td>1</td>\n",
       "    </tr>\n",
       "    <tr>\n",
       "      <th>5</th>\n",
       "      <td>0</td>\n",
       "      <td>2</td>\n",
       "      <td>0</td>\n",
       "      <td>1</td>\n",
       "      <td>0</td>\n",
       "      <td>0</td>\n",
       "      <td>0</td>\n",
       "      <td>2</td>\n",
       "      <td>0</td>\n",
       "      <td>0</td>\n",
       "      <td>0</td>\n",
       "    </tr>\n",
       "  </tbody>\n",
       "</table>\n",
       "</div>"
      ],
      "text/plain": [
       "   rs6025  rs4524  rs1799963  rs1801020  rs5985  rs121909548  rs2232698  \\\n",
       "1       0       1          0          0       1            0          0   \n",
       "2       0       1          0          1       0            0          0   \n",
       "3       0       2          0          1       0            0          0   \n",
       "4       0       2          0          0       0            0          0   \n",
       "5       0       2          0          1       0            0          0   \n",
       "\n",
       "   rs8176719  rs7853989  rs8176749  rs8176750  \n",
       "1          2          0          0          0  \n",
       "2          0          0          0          0  \n",
       "3          1          0          0          0  \n",
       "4          1          0          0          1  \n",
       "5          2          0          0          0  "
      ]
     },
     "execution_count": 23,
     "metadata": {},
     "output_type": "execute_result"
    }
   ],
   "source": [
    "gen_data.head()"
   ]
  },
  {
   "cell_type": "code",
   "execution_count": 24,
   "metadata": {},
   "outputs": [
    {
     "data": {
      "text/plain": [
       "148"
      ]
     },
     "execution_count": 24,
     "metadata": {},
     "output_type": "execute_result"
    }
   ],
   "source": [
    "len(gen_data[gen_data['rs8176719']==0])"
   ]
  },
  {
   "cell_type": "code",
   "execution_count": 122,
   "metadata": {},
   "outputs": [
    {
     "data": {
      "text/plain": [
       "0"
      ]
     },
     "execution_count": 122,
     "metadata": {},
     "output_type": "execute_result"
    }
   ],
   "source": [
    "sum(y[gen_data[gen_data['rs2232698']==1].index])"
   ]
  },
  {
   "cell_type": "code",
   "execution_count": 29,
   "metadata": {},
   "outputs": [
    {
     "name": "stdout",
     "output_type": "stream",
     "text": [
      "Warning: Maximum number of iterations has been exceeded.\n",
      "         Current function value: 0.312784\n",
      "         Iterations: 100\n"
     ]
    },
    {
     "name": "stderr",
     "output_type": "stream",
     "text": [
      "D:\\Anaconda\\lib\\site-packages\\statsmodels\\base\\model.py:567: ConvergenceWarning: Maximum Likelihood optimization failed to converge. Check mle_retvals\n",
      "  warn(\"Maximum Likelihood optimization failed to converge. \"\n"
     ]
    }
   ],
   "source": [
    "gen_model = sm.Logit(y, gen_data).fit(maxiter=100)"
   ]
  },
  {
   "cell_type": "code",
   "execution_count": 30,
   "metadata": {},
   "outputs": [
    {
     "data": {
      "text/html": [
       "<table class=\"simpletable\">\n",
       "<caption>Logit Regression Results</caption>\n",
       "<tr>\n",
       "  <th>Dep. Variable:</th>     <td>v0_episodiETV</td>  <th>  No. Observations:  </th>  <td>   391</td> \n",
       "</tr>\n",
       "<tr>\n",
       "  <th>Model:</th>                 <td>Logit</td>      <th>  Df Residuals:      </th>  <td>   380</td> \n",
       "</tr>\n",
       "<tr>\n",
       "  <th>Method:</th>                 <td>MLE</td>       <th>  Df Model:          </th>  <td>    10</td> \n",
       "</tr>\n",
       "<tr>\n",
       "  <th>Date:</th>            <td>Thu, 08 Apr 2021</td> <th>  Pseudo R-squ.:     </th>  <td>-0.1555</td>\n",
       "</tr>\n",
       "<tr>\n",
       "  <th>Time:</th>                <td>10:49:49</td>     <th>  Log-Likelihood:    </th> <td> -122.30</td>\n",
       "</tr>\n",
       "<tr>\n",
       "  <th>converged:</th>             <td>False</td>      <th>  LL-Null:           </th> <td> -105.84</td>\n",
       "</tr>\n",
       "<tr>\n",
       "  <th>Covariance Type:</th>     <td>nonrobust</td>    <th>  LLR p-value:       </th>  <td> 1.000</td> \n",
       "</tr>\n",
       "</table>\n",
       "<table class=\"simpletable\">\n",
       "<tr>\n",
       "       <td></td>          <th>coef</th>     <th>std err</th>      <th>z</th>      <th>P>|z|</th>  <th>[0.025</th>    <th>0.975]</th>  \n",
       "</tr>\n",
       "<tr>\n",
       "  <th>rs6025</th>      <td>    1.0216</td> <td>    0.845</td> <td>    1.209</td> <td> 0.227</td> <td>   -0.635</td> <td>    2.678</td>\n",
       "</tr>\n",
       "<tr>\n",
       "  <th>rs4524</th>      <td>   -1.0507</td> <td>    0.168</td> <td>   -6.271</td> <td> 0.000</td> <td>   -1.379</td> <td>   -0.722</td>\n",
       "</tr>\n",
       "<tr>\n",
       "  <th>rs1799963</th>   <td>   -1.1531</td> <td>    1.075</td> <td>   -1.073</td> <td> 0.283</td> <td>   -3.260</td> <td>    0.954</td>\n",
       "</tr>\n",
       "<tr>\n",
       "  <th>rs1801020</th>   <td>   -0.4203</td> <td>    0.303</td> <td>   -1.389</td> <td> 0.165</td> <td>   -1.014</td> <td>    0.173</td>\n",
       "</tr>\n",
       "<tr>\n",
       "  <th>rs5985</th>      <td>   -0.3657</td> <td>    0.283</td> <td>   -1.293</td> <td> 0.196</td> <td>   -0.920</td> <td>    0.188</td>\n",
       "</tr>\n",
       "<tr>\n",
       "  <th>rs121909548</th> <td>  -15.4073</td> <td> 7091.049</td> <td>   -0.002</td> <td> 0.998</td> <td>-1.39e+04</td> <td> 1.39e+04</td>\n",
       "</tr>\n",
       "<tr>\n",
       "  <th>rs2232698</th>   <td>  -23.9219</td> <td> 1.48e+05</td> <td>   -0.000</td> <td> 1.000</td> <td>-2.91e+05</td> <td> 2.91e+05</td>\n",
       "</tr>\n",
       "<tr>\n",
       "  <th>rs8176719</th>   <td>   -0.2245</td> <td>    0.273</td> <td>   -0.821</td> <td> 0.412</td> <td>   -0.760</td> <td>    0.311</td>\n",
       "</tr>\n",
       "<tr>\n",
       "  <th>rs7853989</th>   <td>    0.5539</td> <td>    1.179</td> <td>    0.470</td> <td> 0.639</td> <td>   -1.757</td> <td>    2.865</td>\n",
       "</tr>\n",
       "<tr>\n",
       "  <th>rs8176749</th>   <td>   -1.0134</td> <td>    1.257</td> <td>   -0.806</td> <td> 0.420</td> <td>   -3.476</td> <td>    1.450</td>\n",
       "</tr>\n",
       "<tr>\n",
       "  <th>rs8176750</th>   <td>   -0.7499</td> <td>    0.673</td> <td>   -1.115</td> <td> 0.265</td> <td>   -2.068</td> <td>    0.568</td>\n",
       "</tr>\n",
       "</table>"
      ],
      "text/plain": [
       "<class 'statsmodels.iolib.summary.Summary'>\n",
       "\"\"\"\n",
       "                           Logit Regression Results                           \n",
       "==============================================================================\n",
       "Dep. Variable:          v0_episodiETV   No. Observations:                  391\n",
       "Model:                          Logit   Df Residuals:                      380\n",
       "Method:                           MLE   Df Model:                           10\n",
       "Date:                Thu, 08 Apr 2021   Pseudo R-squ.:                 -0.1555\n",
       "Time:                        10:49:49   Log-Likelihood:                -122.30\n",
       "converged:                      False   LL-Null:                       -105.84\n",
       "Covariance Type:            nonrobust   LLR p-value:                     1.000\n",
       "===============================================================================\n",
       "                  coef    std err          z      P>|z|      [0.025      0.975]\n",
       "-------------------------------------------------------------------------------\n",
       "rs6025          1.0216      0.845      1.209      0.227      -0.635       2.678\n",
       "rs4524         -1.0507      0.168     -6.271      0.000      -1.379      -0.722\n",
       "rs1799963      -1.1531      1.075     -1.073      0.283      -3.260       0.954\n",
       "rs1801020      -0.4203      0.303     -1.389      0.165      -1.014       0.173\n",
       "rs5985         -0.3657      0.283     -1.293      0.196      -0.920       0.188\n",
       "rs121909548   -15.4073   7091.049     -0.002      0.998   -1.39e+04    1.39e+04\n",
       "rs2232698     -23.9219   1.48e+05     -0.000      1.000   -2.91e+05    2.91e+05\n",
       "rs8176719      -0.2245      0.273     -0.821      0.412      -0.760       0.311\n",
       "rs7853989       0.5539      1.179      0.470      0.639      -1.757       2.865\n",
       "rs8176749      -1.0134      1.257     -0.806      0.420      -3.476       1.450\n",
       "rs8176750      -0.7499      0.673     -1.115      0.265      -2.068       0.568\n",
       "===============================================================================\n",
       "\"\"\""
      ]
     },
     "execution_count": 30,
     "metadata": {},
     "output_type": "execute_result"
    }
   ],
   "source": [
    "gen_model.summary()"
   ]
  },
  {
   "cell_type": "markdown",
   "metadata": {},
   "source": [
    "### Clinical variables"
   ]
  },
  {
   "cell_type": "code",
   "execution_count": 31,
   "metadata": {},
   "outputs": [],
   "source": [
    "clinical_data = data[['sexe','edatDx','diabetesM','fumador','Family','bmi','dislip', 'hta_desc','khorana',\n",
    "                      'tipusTumor_desc','estadiGrup','hemoglobina','plaquetes','leucocits']]"
   ]
  },
  {
   "cell_type": "code",
   "execution_count": 32,
   "metadata": {
    "scrolled": true
   },
   "outputs": [
    {
     "data": {
      "text/plain": [
       "(391, 14)"
      ]
     },
     "execution_count": 32,
     "metadata": {},
     "output_type": "execute_result"
    }
   ],
   "source": [
    "clinical_data.shape"
   ]
  },
  {
   "cell_type": "code",
   "execution_count": 33,
   "metadata": {},
   "outputs": [
    {
     "name": "stdout",
     "output_type": "stream",
     "text": [
      "['Hombre' 'Mujer']\n"
     ]
    }
   ],
   "source": [
    "print(clinical_data['sexe'].unique()) \n",
    "clinical_data['sexe'].replace('Hombre', 0, inplace=True)\n",
    "clinical_data['sexe'].replace('Mujer', 1, inplace=True)"
   ]
  },
  {
   "cell_type": "code",
   "execution_count": 34,
   "metadata": {},
   "outputs": [
    {
     "name": "stdout",
     "output_type": "stream",
     "text": [
      "['-' 'No' 'Sí']\n"
     ]
    }
   ],
   "source": [
    "print(clinical_data['diabetesM'].unique()) \n",
    "clinical_data['diabetesM'].replace('No', 0, inplace=True)\n",
    "clinical_data['diabetesM'].replace('Sí', 1, inplace=True)\n",
    "clinical_data['diabetesM'].replace('-', 0, inplace=True) # replace missing values by 0"
   ]
  },
  {
   "cell_type": "code",
   "execution_count": 35,
   "metadata": {},
   "outputs": [
    {
     "name": "stdout",
     "output_type": "stream",
     "text": [
      "['Fumador activo' 'Nunca' 'Exfumador' 'Desconocido']\n"
     ]
    }
   ],
   "source": [
    "print(clinical_data['fumador'].unique()) \n",
    "clinical_data['fumador'].replace('Nunca', 0, inplace=True)\n",
    "clinical_data['fumador'].replace('Desconocido', 0, inplace=True)\n",
    "clinical_data['fumador'].replace('Exfumador', 0, inplace=True)\n",
    "clinical_data['fumador'].replace('Fumador activo', 1, inplace=True)"
   ]
  },
  {
   "cell_type": "code",
   "execution_count": 36,
   "metadata": {},
   "outputs": [
    {
     "name": "stdout",
     "output_type": "stream",
     "text": [
      "['Obese: BMI > 30 kg/m2' 'Normal: BMI ~ 18.5-24.9 Kg/m2'\n",
      " 'Overweight: BMI ~25-29.9 Kg/m2' 'Underweight: BMI < 18.5 Kg/m2']\n"
     ]
    }
   ],
   "source": [
    "print(clinical_data['bmi'].unique()) \n",
    "clinical_data['bmi'].replace('Underweight: BMI < 18.5 Kg/m2', 0, inplace=True)\n",
    "clinical_data['bmi'].replace('Normal: BMI ~ 18.5-24.9 Kg/m2', 0, inplace=True)\n",
    "clinical_data['bmi'].replace('Overweight: BMI ~25-29.9 Kg/m2', 1, inplace=True)\n",
    "clinical_data['bmi'].replace('Obese: BMI > 30 kg/m2', 1, inplace=True)"
   ]
  },
  {
   "cell_type": "code",
   "execution_count": 37,
   "metadata": {},
   "outputs": [
    {
     "name": "stdout",
     "output_type": "stream",
     "text": [
      "['-' 'No' 'Sí']\n"
     ]
    }
   ],
   "source": [
    "print(clinical_data['dislip'].unique()) \n",
    "clinical_data['dislip'].replace('No', 0, inplace=True)\n",
    "clinical_data['dislip'].replace('Sí', 1, inplace=True)\n",
    "clinical_data['dislip'].replace('-', 0, inplace=True) # replace missing values by 0"
   ]
  },
  {
   "cell_type": "code",
   "execution_count": 38,
   "metadata": {},
   "outputs": [
    {
     "name": "stdout",
     "output_type": "stream",
     "text": [
      "['-' 'Sí' 'No']\n"
     ]
    }
   ],
   "source": [
    "print(clinical_data['hta_desc'].unique()) \n",
    "clinical_data['hta_desc'].replace('No', 0, inplace=True)\n",
    "clinical_data['hta_desc'].replace('Sí', 1, inplace=True)\n",
    "clinical_data['hta_desc'].replace('-', 0, inplace=True) # replace missing values by 0"
   ]
  },
  {
   "cell_type": "code",
   "execution_count": 39,
   "metadata": {},
   "outputs": [
    {
     "name": "stdout",
     "output_type": "stream",
     "text": [
      "[ 2.  1.  0.  3.  4. nan]\n"
     ]
    }
   ],
   "source": [
    "print(clinical_data['khorana'].unique()) \n",
    "clinical_data['khorana'] = [1 if n>=3 else 0 for n in clinical_data['khorana']]\n",
    "clinical_data['khorana'].replace(np.nan, 0, inplace=True) # replace missing values by 0"
   ]
  },
  {
   "cell_type": "code",
   "execution_count": 40,
   "metadata": {},
   "outputs": [
    {
     "name": "stdout",
     "output_type": "stream",
     "text": [
      "['Cáncer esófago' 'Cáncer gástrico o de estómago'\n",
      " 'Cáncer de pulmón no microcítico' 'Cáncer colorrectal'\n",
      " 'Cáncer de páncreas']\n"
     ]
    }
   ],
   "source": [
    "print(clinical_data['tipusTumor_desc'].unique()) \n",
    "clinical_data['tipusTumor_colon'] = [1 if t=='Cáncer colorrectal' else 0 for t in clinical_data['tipusTumor_desc']]\n",
    "clinical_data['tipusTumor_pancreas'] = [1 if t=='Cáncer de páncreas' else 0 for t in clinical_data['tipusTumor_desc']]\n",
    "clinical_data['tipusTumor_pulmon'] = [1 if t=='Cáncer de pulmón no microcítico' else 0 for t in clinical_data['tipusTumor_desc']]\n",
    "clinical_data['tipusTumor_esofago'] = [1 if t=='Cáncer esófago' else 0 for t in clinical_data['tipusTumor_desc']]\n",
    "clinical_data['tipusTumor_estomago'] = [1 if t=='Cáncer gástrico o de estómago' else 0 for t in clinical_data['tipusTumor_desc']]\n",
    "clinical_data.drop('tipusTumor_desc', axis=1, inplace=True)"
   ]
  },
  {
   "cell_type": "code",
   "execution_count": 41,
   "metadata": {},
   "outputs": [
    {
     "name": "stdout",
     "output_type": "stream",
     "text": [
      "['IV' 'IIB' 'IVB' 'IVA' 'IIIC' 'IIA' 'IB' 'IIIB' 'III' 'IIIA' 'IIC' 'IA']\n"
     ]
    }
   ],
   "source": [
    "print(clinical_data['estadiGrup'].unique()) \n",
    "clinical_data['estadiGrup_I_II'] = [1 if g in ['IA','IB','IIA','IIB','IIC'] else 0 for g in clinical_data['estadiGrup']]\n",
    "clinical_data['estadiGrup_III'] = [1 if g in ['III','IIIA','IIIB','IIIC'] else 0 for g in clinical_data['estadiGrup']]\n",
    "clinical_data['estadiGrup_IV'] = [1 if g in ['IV','IVA','IVB'] else 0 for g in clinical_data['estadiGrup']]\n",
    "clinical_data.drop('estadiGrup', axis=1, inplace=True)"
   ]
  },
  {
   "cell_type": "code",
   "execution_count": 42,
   "metadata": {},
   "outputs": [],
   "source": [
    "clinical_data['hemoglobina'] = [1 if n<10 else 0 for n in clinical_data['hemoglobina']]\n",
    "clinical_data['plaquetes'] = [1 if n>350000 else 0 for n in clinical_data['plaquetes']]\n",
    "clinical_data['leucocits'] = [1 if n>11000 else 0 for n in clinical_data['leucocits']]"
   ]
  },
  {
   "cell_type": "code",
   "execution_count": 43,
   "metadata": {},
   "outputs": [
    {
     "data": {
      "text/html": [
       "<div>\n",
       "<style scoped>\n",
       "    .dataframe tbody tr th:only-of-type {\n",
       "        vertical-align: middle;\n",
       "    }\n",
       "\n",
       "    .dataframe tbody tr th {\n",
       "        vertical-align: top;\n",
       "    }\n",
       "\n",
       "    .dataframe thead th {\n",
       "        text-align: right;\n",
       "    }\n",
       "</style>\n",
       "<table border=\"1\" class=\"dataframe\">\n",
       "  <thead>\n",
       "    <tr style=\"text-align: right;\">\n",
       "      <th></th>\n",
       "      <th>sexe</th>\n",
       "      <th>edatDx</th>\n",
       "      <th>diabetesM</th>\n",
       "      <th>fumador</th>\n",
       "      <th>Family</th>\n",
       "      <th>bmi</th>\n",
       "      <th>dislip</th>\n",
       "      <th>hta_desc</th>\n",
       "      <th>khorana</th>\n",
       "      <th>hemoglobina</th>\n",
       "      <th>plaquetes</th>\n",
       "      <th>leucocits</th>\n",
       "      <th>tipusTumor_colon</th>\n",
       "      <th>tipusTumor_pancreas</th>\n",
       "      <th>tipusTumor_pulmon</th>\n",
       "      <th>tipusTumor_esofago</th>\n",
       "      <th>tipusTumor_estomago</th>\n",
       "      <th>estadiGrup_I_II</th>\n",
       "      <th>estadiGrup_III</th>\n",
       "      <th>estadiGrup_IV</th>\n",
       "    </tr>\n",
       "  </thead>\n",
       "  <tbody>\n",
       "    <tr>\n",
       "      <th>1</th>\n",
       "      <td>0</td>\n",
       "      <td>50</td>\n",
       "      <td>0</td>\n",
       "      <td>1</td>\n",
       "      <td>0</td>\n",
       "      <td>1</td>\n",
       "      <td>0</td>\n",
       "      <td>0</td>\n",
       "      <td>0</td>\n",
       "      <td>0</td>\n",
       "      <td>0</td>\n",
       "      <td>0</td>\n",
       "      <td>0</td>\n",
       "      <td>0</td>\n",
       "      <td>0</td>\n",
       "      <td>1</td>\n",
       "      <td>0</td>\n",
       "      <td>0</td>\n",
       "      <td>0</td>\n",
       "      <td>1</td>\n",
       "    </tr>\n",
       "    <tr>\n",
       "      <th>2</th>\n",
       "      <td>0</td>\n",
       "      <td>71</td>\n",
       "      <td>0</td>\n",
       "      <td>0</td>\n",
       "      <td>0</td>\n",
       "      <td>0</td>\n",
       "      <td>0</td>\n",
       "      <td>1</td>\n",
       "      <td>0</td>\n",
       "      <td>0</td>\n",
       "      <td>0</td>\n",
       "      <td>0</td>\n",
       "      <td>0</td>\n",
       "      <td>0</td>\n",
       "      <td>0</td>\n",
       "      <td>0</td>\n",
       "      <td>1</td>\n",
       "      <td>1</td>\n",
       "      <td>0</td>\n",
       "      <td>0</td>\n",
       "    </tr>\n",
       "    <tr>\n",
       "      <th>3</th>\n",
       "      <td>0</td>\n",
       "      <td>68</td>\n",
       "      <td>0</td>\n",
       "      <td>1</td>\n",
       "      <td>0</td>\n",
       "      <td>0</td>\n",
       "      <td>1</td>\n",
       "      <td>1</td>\n",
       "      <td>0</td>\n",
       "      <td>0</td>\n",
       "      <td>0</td>\n",
       "      <td>0</td>\n",
       "      <td>0</td>\n",
       "      <td>0</td>\n",
       "      <td>1</td>\n",
       "      <td>0</td>\n",
       "      <td>0</td>\n",
       "      <td>0</td>\n",
       "      <td>0</td>\n",
       "      <td>1</td>\n",
       "    </tr>\n",
       "    <tr>\n",
       "      <th>4</th>\n",
       "      <td>0</td>\n",
       "      <td>71</td>\n",
       "      <td>1</td>\n",
       "      <td>1</td>\n",
       "      <td>0</td>\n",
       "      <td>0</td>\n",
       "      <td>1</td>\n",
       "      <td>1</td>\n",
       "      <td>0</td>\n",
       "      <td>0</td>\n",
       "      <td>0</td>\n",
       "      <td>0</td>\n",
       "      <td>1</td>\n",
       "      <td>0</td>\n",
       "      <td>0</td>\n",
       "      <td>0</td>\n",
       "      <td>0</td>\n",
       "      <td>0</td>\n",
       "      <td>0</td>\n",
       "      <td>1</td>\n",
       "    </tr>\n",
       "    <tr>\n",
       "      <th>5</th>\n",
       "      <td>0</td>\n",
       "      <td>59</td>\n",
       "      <td>0</td>\n",
       "      <td>0</td>\n",
       "      <td>0</td>\n",
       "      <td>1</td>\n",
       "      <td>0</td>\n",
       "      <td>1</td>\n",
       "      <td>0</td>\n",
       "      <td>0</td>\n",
       "      <td>0</td>\n",
       "      <td>0</td>\n",
       "      <td>1</td>\n",
       "      <td>0</td>\n",
       "      <td>0</td>\n",
       "      <td>0</td>\n",
       "      <td>0</td>\n",
       "      <td>0</td>\n",
       "      <td>0</td>\n",
       "      <td>1</td>\n",
       "    </tr>\n",
       "  </tbody>\n",
       "</table>\n",
       "</div>"
      ],
      "text/plain": [
       "   sexe  edatDx  diabetesM  fumador  Family  bmi  dislip  hta_desc  khorana  \\\n",
       "1     0      50          0        1       0    1       0         0        0   \n",
       "2     0      71          0        0       0    0       0         1        0   \n",
       "3     0      68          0        1       0    0       1         1        0   \n",
       "4     0      71          1        1       0    0       1         1        0   \n",
       "5     0      59          0        0       0    1       0         1        0   \n",
       "\n",
       "   hemoglobina  plaquetes  leucocits  tipusTumor_colon  tipusTumor_pancreas  \\\n",
       "1            0          0          0                 0                    0   \n",
       "2            0          0          0                 0                    0   \n",
       "3            0          0          0                 0                    0   \n",
       "4            0          0          0                 1                    0   \n",
       "5            0          0          0                 1                    0   \n",
       "\n",
       "   tipusTumor_pulmon  tipusTumor_esofago  tipusTumor_estomago  \\\n",
       "1                  0                   1                    0   \n",
       "2                  0                   0                    1   \n",
       "3                  1                   0                    0   \n",
       "4                  0                   0                    0   \n",
       "5                  0                   0                    0   \n",
       "\n",
       "   estadiGrup_I_II  estadiGrup_III  estadiGrup_IV  \n",
       "1                0               0              1  \n",
       "2                1               0              0  \n",
       "3                0               0              1  \n",
       "4                0               0              1  \n",
       "5                0               0              1  "
      ]
     },
     "execution_count": 43,
     "metadata": {},
     "output_type": "execute_result"
    }
   ],
   "source": [
    "clinical_data.head()"
   ]
  },
  {
   "cell_type": "code",
   "execution_count": 44,
   "metadata": {},
   "outputs": [
    {
     "data": {
      "text/plain": [
       "(391, 20)"
      ]
     },
     "execution_count": 44,
     "metadata": {},
     "output_type": "execute_result"
    }
   ],
   "source": [
    "clinical_data.shape"
   ]
  },
  {
   "cell_type": "code",
   "execution_count": 60,
   "metadata": {},
   "outputs": [
    {
     "data": {
      "text/plain": [
       "74"
      ]
     },
     "execution_count": 60,
     "metadata": {},
     "output_type": "execute_result"
    }
   ],
   "source": [
    "len(clinical_data[clinical_data['khorana']==1])"
   ]
  },
  {
   "cell_type": "code",
   "execution_count": 61,
   "metadata": {},
   "outputs": [
    {
     "data": {
      "text/plain": [
       "8"
      ]
     },
     "execution_count": 61,
     "metadata": {},
     "output_type": "execute_result"
    }
   ],
   "source": [
    "sum(y[clinical_data[clinical_data['khorana']==1].index])"
   ]
  },
  {
   "cell_type": "code",
   "execution_count": 47,
   "metadata": {},
   "outputs": [
    {
     "name": "stdout",
     "output_type": "stream",
     "text": [
      "Warning: Maximum number of iterations has been exceeded.\n",
      "         Current function value: 0.186895\n",
      "         Iterations: 100\n"
     ]
    },
    {
     "name": "stderr",
     "output_type": "stream",
     "text": [
      "D:\\Anaconda\\lib\\site-packages\\statsmodels\\base\\model.py:567: ConvergenceWarning: Maximum Likelihood optimization failed to converge. Check mle_retvals\n",
      "  warn(\"Maximum Likelihood optimization failed to converge. \"\n"
     ]
    }
   ],
   "source": [
    "# fit the model with maximum likelihood function\n",
    "clinical_model = sm.Logit(endog=y, exog=clinical_data).fit(maxiter=100)"
   ]
  },
  {
   "cell_type": "code",
   "execution_count": 48,
   "metadata": {},
   "outputs": [
    {
     "data": {
      "text/html": [
       "<table class=\"simpletable\">\n",
       "<caption>Logit Regression Results</caption>\n",
       "<tr>\n",
       "  <th>Dep. Variable:</th>     <td>v0_episodiETV</td>  <th>  No. Observations:  </th>  <td>   391</td>  \n",
       "</tr>\n",
       "<tr>\n",
       "  <th>Model:</th>                 <td>Logit</td>      <th>  Df Residuals:      </th>  <td>   372</td>  \n",
       "</tr>\n",
       "<tr>\n",
       "  <th>Method:</th>                 <td>MLE</td>       <th>  Df Model:          </th>  <td>    18</td>  \n",
       "</tr>\n",
       "<tr>\n",
       "  <th>Date:</th>            <td>Thu, 08 Apr 2021</td> <th>  Pseudo R-squ.:     </th>  <td>0.3096</td>  \n",
       "</tr>\n",
       "<tr>\n",
       "  <th>Time:</th>                <td>10:52:24</td>     <th>  Log-Likelihood:    </th> <td> -73.076</td> \n",
       "</tr>\n",
       "<tr>\n",
       "  <th>converged:</th>             <td>False</td>      <th>  LL-Null:           </th> <td> -105.84</td> \n",
       "</tr>\n",
       "<tr>\n",
       "  <th>Covariance Type:</th>     <td>nonrobust</td>    <th>  LLR p-value:       </th> <td>2.533e-07</td>\n",
       "</tr>\n",
       "</table>\n",
       "<table class=\"simpletable\">\n",
       "<tr>\n",
       "           <td></td>              <th>coef</th>     <th>std err</th>      <th>z</th>      <th>P>|z|</th>  <th>[0.025</th>    <th>0.975]</th>  \n",
       "</tr>\n",
       "<tr>\n",
       "  <th>sexe</th>                <td>    0.5697</td> <td>    0.475</td> <td>    1.200</td> <td> 0.230</td> <td>   -0.361</td> <td>    1.500</td>\n",
       "</tr>\n",
       "<tr>\n",
       "  <th>edatDx</th>              <td>    0.0189</td> <td>    0.025</td> <td>    0.757</td> <td> 0.449</td> <td>   -0.030</td> <td>    0.068</td>\n",
       "</tr>\n",
       "<tr>\n",
       "  <th>diabetesM</th>           <td>   -0.2837</td> <td>    0.566</td> <td>   -0.501</td> <td> 0.616</td> <td>   -1.394</td> <td>    0.826</td>\n",
       "</tr>\n",
       "<tr>\n",
       "  <th>fumador</th>             <td>    0.6794</td> <td>    0.524</td> <td>    1.296</td> <td> 0.195</td> <td>   -0.348</td> <td>    1.707</td>\n",
       "</tr>\n",
       "<tr>\n",
       "  <th>Family</th>              <td>    0.8831</td> <td>    0.857</td> <td>    1.030</td> <td> 0.303</td> <td>   -0.797</td> <td>    2.563</td>\n",
       "</tr>\n",
       "<tr>\n",
       "  <th>bmi</th>                 <td>    0.0806</td> <td>    0.492</td> <td>    0.164</td> <td> 0.870</td> <td>   -0.884</td> <td>    1.046</td>\n",
       "</tr>\n",
       "<tr>\n",
       "  <th>dislip</th>              <td>    0.8625</td> <td>    0.474</td> <td>    1.820</td> <td> 0.069</td> <td>   -0.067</td> <td>    1.792</td>\n",
       "</tr>\n",
       "<tr>\n",
       "  <th>hta_desc</th>            <td>    0.0367</td> <td>    0.468</td> <td>    0.078</td> <td> 0.938</td> <td>   -0.881</td> <td>    0.954</td>\n",
       "</tr>\n",
       "<tr>\n",
       "  <th>khorana</th>             <td>    0.4553</td> <td>    0.961</td> <td>    0.474</td> <td> 0.636</td> <td>   -1.429</td> <td>    2.339</td>\n",
       "</tr>\n",
       "<tr>\n",
       "  <th>hemoglobina</th>         <td>  -28.3365</td> <td> 1.67e+06</td> <td> -1.7e-05</td> <td> 1.000</td> <td>-3.27e+06</td> <td> 3.27e+06</td>\n",
       "</tr>\n",
       "<tr>\n",
       "  <th>plaquetes</th>           <td>   -1.2914</td> <td>    0.849</td> <td>   -1.521</td> <td> 0.128</td> <td>   -2.956</td> <td>    0.373</td>\n",
       "</tr>\n",
       "<tr>\n",
       "  <th>leucocits</th>           <td>   -0.1368</td> <td>    0.786</td> <td>   -0.174</td> <td> 0.862</td> <td>   -1.677</td> <td>    1.403</td>\n",
       "</tr>\n",
       "<tr>\n",
       "  <th>tipusTumor_colon</th>    <td>   -5.4123</td> <td> 2.02e+07</td> <td>-2.68e-07</td> <td> 1.000</td> <td>-3.95e+07</td> <td> 3.95e+07</td>\n",
       "</tr>\n",
       "<tr>\n",
       "  <th>tipusTumor_pancreas</th> <td>   -3.6703</td> <td> 2.02e+07</td> <td>-1.82e-07</td> <td> 1.000</td> <td>-3.95e+07</td> <td> 3.95e+07</td>\n",
       "</tr>\n",
       "<tr>\n",
       "  <th>tipusTumor_pulmon</th>   <td>   -6.3516</td> <td> 2.02e+07</td> <td>-3.15e-07</td> <td> 1.000</td> <td>-3.95e+07</td> <td> 3.95e+07</td>\n",
       "</tr>\n",
       "<tr>\n",
       "  <th>tipusTumor_esofago</th>  <td>   -4.0594</td> <td> 2.02e+07</td> <td>-2.01e-07</td> <td> 1.000</td> <td>-3.95e+07</td> <td> 3.95e+07</td>\n",
       "</tr>\n",
       "<tr>\n",
       "  <th>tipusTumor_estomago</th> <td>   -6.4233</td> <td> 2.02e+07</td> <td>-3.18e-07</td> <td> 1.000</td> <td>-3.95e+07</td> <td> 3.95e+07</td>\n",
       "</tr>\n",
       "<tr>\n",
       "  <th>estadiGrup_I_II</th>     <td>  -27.3921</td> <td> 2.02e+07</td> <td>-1.36e-06</td> <td> 1.000</td> <td>-3.95e+07</td> <td> 3.95e+07</td>\n",
       "</tr>\n",
       "<tr>\n",
       "  <th>estadiGrup_III</th>      <td>    0.4137</td> <td> 2.02e+07</td> <td> 2.05e-08</td> <td> 1.000</td> <td>-3.95e+07</td> <td> 3.95e+07</td>\n",
       "</tr>\n",
       "<tr>\n",
       "  <th>estadiGrup_IV</th>       <td>    1.0615</td> <td> 2.02e+07</td> <td> 5.26e-08</td> <td> 1.000</td> <td>-3.95e+07</td> <td> 3.95e+07</td>\n",
       "</tr>\n",
       "</table><br/><br/>Possibly complete quasi-separation: A fraction 0.23 of observations can be<br/>perfectly predicted. This might indicate that there is complete<br/>quasi-separation. In this case some parameters will not be identified."
      ],
      "text/plain": [
       "<class 'statsmodels.iolib.summary.Summary'>\n",
       "\"\"\"\n",
       "                           Logit Regression Results                           \n",
       "==============================================================================\n",
       "Dep. Variable:          v0_episodiETV   No. Observations:                  391\n",
       "Model:                          Logit   Df Residuals:                      372\n",
       "Method:                           MLE   Df Model:                           18\n",
       "Date:                Thu, 08 Apr 2021   Pseudo R-squ.:                  0.3096\n",
       "Time:                        10:52:24   Log-Likelihood:                -73.076\n",
       "converged:                      False   LL-Null:                       -105.84\n",
       "Covariance Type:            nonrobust   LLR p-value:                 2.533e-07\n",
       "=======================================================================================\n",
       "                          coef    std err          z      P>|z|      [0.025      0.975]\n",
       "---------------------------------------------------------------------------------------\n",
       "sexe                    0.5697      0.475      1.200      0.230      -0.361       1.500\n",
       "edatDx                  0.0189      0.025      0.757      0.449      -0.030       0.068\n",
       "diabetesM              -0.2837      0.566     -0.501      0.616      -1.394       0.826\n",
       "fumador                 0.6794      0.524      1.296      0.195      -0.348       1.707\n",
       "Family                  0.8831      0.857      1.030      0.303      -0.797       2.563\n",
       "bmi                     0.0806      0.492      0.164      0.870      -0.884       1.046\n",
       "dislip                  0.8625      0.474      1.820      0.069      -0.067       1.792\n",
       "hta_desc                0.0367      0.468      0.078      0.938      -0.881       0.954\n",
       "khorana                 0.4553      0.961      0.474      0.636      -1.429       2.339\n",
       "hemoglobina           -28.3365   1.67e+06   -1.7e-05      1.000   -3.27e+06    3.27e+06\n",
       "plaquetes              -1.2914      0.849     -1.521      0.128      -2.956       0.373\n",
       "leucocits              -0.1368      0.786     -0.174      0.862      -1.677       1.403\n",
       "tipusTumor_colon       -5.4123   2.02e+07  -2.68e-07      1.000   -3.95e+07    3.95e+07\n",
       "tipusTumor_pancreas    -3.6703   2.02e+07  -1.82e-07      1.000   -3.95e+07    3.95e+07\n",
       "tipusTumor_pulmon      -6.3516   2.02e+07  -3.15e-07      1.000   -3.95e+07    3.95e+07\n",
       "tipusTumor_esofago     -4.0594   2.02e+07  -2.01e-07      1.000   -3.95e+07    3.95e+07\n",
       "tipusTumor_estomago    -6.4233   2.02e+07  -3.18e-07      1.000   -3.95e+07    3.95e+07\n",
       "estadiGrup_I_II       -27.3921   2.02e+07  -1.36e-06      1.000   -3.95e+07    3.95e+07\n",
       "estadiGrup_III          0.4137   2.02e+07   2.05e-08      1.000   -3.95e+07    3.95e+07\n",
       "estadiGrup_IV           1.0615   2.02e+07   5.26e-08      1.000   -3.95e+07    3.95e+07\n",
       "=======================================================================================\n",
       "\n",
       "Possibly complete quasi-separation: A fraction 0.23 of observations can be\n",
       "perfectly predicted. This might indicate that there is complete\n",
       "quasi-separation. In this case some parameters will not be identified.\n",
       "\"\"\""
      ]
     },
     "execution_count": 48,
     "metadata": {},
     "output_type": "execute_result"
    }
   ],
   "source": [
    "clinical_model.summary()"
   ]
  },
  {
   "cell_type": "markdown",
   "metadata": {},
   "source": [
    "### Genetical and clinical markers included in the TiC-Onco risk score model"
   ]
  },
  {
   "cell_type": "code",
   "execution_count": 80,
   "metadata": {},
   "outputs": [],
   "source": [
    "X = pd.concat([gen_data[['rs2232698','rs6025','rs5985','rs4524']], clinical_data[['bmi','Family']]], axis=1)"
   ]
  },
  {
   "cell_type": "code",
   "execution_count": 91,
   "metadata": {},
   "outputs": [
    {
     "name": "stdout",
     "output_type": "stream",
     "text": [
      "['Cáncer esófago' 'Cáncer gástrico o de estómago'\n",
      " 'Cáncer de pulmón no microcítico' 'Cáncer colorrectal'\n",
      " 'Cáncer de páncreas']\n"
     ]
    }
   ],
   "source": [
    "print(data['tipusTumor_desc'].unique()) \n",
    "X['primary_tumour_site'] = [1 if t=='Cáncer de pulmón no microcítico' else 2 if t in ['Cáncer gástrico o de estómago','Cáncer de páncreas'] else 0 for t in data['tipusTumor_desc']]"
   ]
  },
  {
   "cell_type": "code",
   "execution_count": 93,
   "metadata": {},
   "outputs": [
    {
     "name": "stdout",
     "output_type": "stream",
     "text": [
      "['IV' 'IIB' 'IVB' 'IVA' 'IIIC' 'IIA' 'IB' 'IIIB' 'III' 'IIIA' 'IIC' 'IA']\n"
     ]
    }
   ],
   "source": [
    "print(data['estadiGrup'].unique()) \n",
    "X['tumour_stage'] = [1 if t in ['IV','IVA','IVB'] else 0 for t in data['estadiGrup']]"
   ]
  },
  {
   "cell_type": "code",
   "execution_count": 95,
   "metadata": {},
   "outputs": [
    {
     "data": {
      "text/html": [
       "<div>\n",
       "<style scoped>\n",
       "    .dataframe tbody tr th:only-of-type {\n",
       "        vertical-align: middle;\n",
       "    }\n",
       "\n",
       "    .dataframe tbody tr th {\n",
       "        vertical-align: top;\n",
       "    }\n",
       "\n",
       "    .dataframe thead th {\n",
       "        text-align: right;\n",
       "    }\n",
       "</style>\n",
       "<table border=\"1\" class=\"dataframe\">\n",
       "  <thead>\n",
       "    <tr style=\"text-align: right;\">\n",
       "      <th></th>\n",
       "      <th>rs2232698</th>\n",
       "      <th>rs6025</th>\n",
       "      <th>rs5985</th>\n",
       "      <th>rs4524</th>\n",
       "      <th>bmi</th>\n",
       "      <th>Family</th>\n",
       "      <th>primary_tumour_site</th>\n",
       "      <th>tumour_stage</th>\n",
       "    </tr>\n",
       "  </thead>\n",
       "  <tbody>\n",
       "    <tr>\n",
       "      <th>1</th>\n",
       "      <td>0</td>\n",
       "      <td>0</td>\n",
       "      <td>1</td>\n",
       "      <td>1</td>\n",
       "      <td>1</td>\n",
       "      <td>0</td>\n",
       "      <td>0</td>\n",
       "      <td>1</td>\n",
       "    </tr>\n",
       "    <tr>\n",
       "      <th>2</th>\n",
       "      <td>0</td>\n",
       "      <td>0</td>\n",
       "      <td>0</td>\n",
       "      <td>1</td>\n",
       "      <td>0</td>\n",
       "      <td>0</td>\n",
       "      <td>2</td>\n",
       "      <td>0</td>\n",
       "    </tr>\n",
       "    <tr>\n",
       "      <th>3</th>\n",
       "      <td>0</td>\n",
       "      <td>0</td>\n",
       "      <td>0</td>\n",
       "      <td>2</td>\n",
       "      <td>0</td>\n",
       "      <td>0</td>\n",
       "      <td>1</td>\n",
       "      <td>1</td>\n",
       "    </tr>\n",
       "    <tr>\n",
       "      <th>4</th>\n",
       "      <td>0</td>\n",
       "      <td>0</td>\n",
       "      <td>0</td>\n",
       "      <td>2</td>\n",
       "      <td>0</td>\n",
       "      <td>0</td>\n",
       "      <td>0</td>\n",
       "      <td>1</td>\n",
       "    </tr>\n",
       "    <tr>\n",
       "      <th>5</th>\n",
       "      <td>0</td>\n",
       "      <td>0</td>\n",
       "      <td>0</td>\n",
       "      <td>2</td>\n",
       "      <td>1</td>\n",
       "      <td>0</td>\n",
       "      <td>0</td>\n",
       "      <td>1</td>\n",
       "    </tr>\n",
       "  </tbody>\n",
       "</table>\n",
       "</div>"
      ],
      "text/plain": [
       "   rs2232698  rs6025  rs5985  rs4524  bmi  Family  primary_tumour_site  \\\n",
       "1          0       0       1       1    1       0                    0   \n",
       "2          0       0       0       1    0       0                    2   \n",
       "3          0       0       0       2    0       0                    1   \n",
       "4          0       0       0       2    0       0                    0   \n",
       "5          0       0       0       2    1       0                    0   \n",
       "\n",
       "   tumour_stage  \n",
       "1             1  \n",
       "2             0  \n",
       "3             1  \n",
       "4             1  \n",
       "5             1  "
      ]
     },
     "execution_count": 95,
     "metadata": {},
     "output_type": "execute_result"
    }
   ],
   "source": [
    "X.head()"
   ]
  },
  {
   "cell_type": "code",
   "execution_count": 96,
   "metadata": {},
   "outputs": [
    {
     "data": {
      "text/plain": [
       "(391, 8)"
      ]
     },
     "execution_count": 96,
     "metadata": {},
     "output_type": "execute_result"
    }
   ],
   "source": [
    "X.shape"
   ]
  },
  {
   "cell_type": "markdown",
   "metadata": {},
   "source": [
    "### Evaluating TiC-Onco risk score"
   ]
  },
  {
   "cell_type": "code",
   "execution_count": 108,
   "metadata": {},
   "outputs": [
    {
     "name": "stdout",
     "output_type": "stream",
     "text": [
      "Optimization terminated successfully.\n",
      "         Current function value: 0.309614\n",
      "         Iterations 39\n"
     ]
    }
   ],
   "source": [
    "model = sm.Logit(endog=y, exog=X).fit(maxiter=100)"
   ]
  },
  {
   "cell_type": "code",
   "execution_count": 109,
   "metadata": {},
   "outputs": [
    {
     "data": {
      "text/html": [
       "<table class=\"simpletable\">\n",
       "<caption>Logit Regression Results</caption>\n",
       "<tr>\n",
       "  <th>Dep. Variable:</th>     <td>v0_episodiETV</td>  <th>  No. Observations:  </th>  <td>   391</td> \n",
       "</tr>\n",
       "<tr>\n",
       "  <th>Model:</th>                 <td>Logit</td>      <th>  Df Residuals:      </th>  <td>   383</td> \n",
       "</tr>\n",
       "<tr>\n",
       "  <th>Method:</th>                 <td>MLE</td>       <th>  Df Model:          </th>  <td>     7</td> \n",
       "</tr>\n",
       "<tr>\n",
       "  <th>Date:</th>            <td>Thu, 08 Apr 2021</td> <th>  Pseudo R-squ.:     </th>  <td>-0.1438</td>\n",
       "</tr>\n",
       "<tr>\n",
       "  <th>Time:</th>                <td>11:46:09</td>     <th>  Log-Likelihood:    </th> <td> -121.06</td>\n",
       "</tr>\n",
       "<tr>\n",
       "  <th>converged:</th>             <td>True</td>       <th>  LL-Null:           </th> <td> -105.84</td>\n",
       "</tr>\n",
       "<tr>\n",
       "  <th>Covariance Type:</th>     <td>nonrobust</td>    <th>  LLR p-value:       </th>  <td> 1.000</td> \n",
       "</tr>\n",
       "</table>\n",
       "<table class=\"simpletable\">\n",
       "<tr>\n",
       "           <td></td>              <th>coef</th>     <th>std err</th>      <th>z</th>      <th>P>|z|</th>  <th>[0.025</th>    <th>0.975]</th>  \n",
       "</tr>\n",
       "<tr>\n",
       "  <th>rs2232698</th>           <td> -110.7782</td> <td> 9.41e+23</td> <td>-1.18e-22</td> <td> 1.000</td> <td>-1.84e+24</td> <td> 1.84e+24</td>\n",
       "</tr>\n",
       "<tr>\n",
       "  <th>rs6025</th>              <td>    1.1337</td> <td>    0.857</td> <td>    1.323</td> <td> 0.186</td> <td>   -0.546</td> <td>    2.814</td>\n",
       "</tr>\n",
       "<tr>\n",
       "  <th>rs5985</th>              <td>   -0.3992</td> <td>    0.291</td> <td>   -1.371</td> <td> 0.170</td> <td>   -0.970</td> <td>    0.171</td>\n",
       "</tr>\n",
       "<tr>\n",
       "  <th>rs4524</th>              <td>   -1.1911</td> <td>    0.179</td> <td>   -6.655</td> <td> 0.000</td> <td>   -1.542</td> <td>   -0.840</td>\n",
       "</tr>\n",
       "<tr>\n",
       "  <th>bmi</th>                 <td>   -0.9874</td> <td>    0.341</td> <td>   -2.896</td> <td> 0.004</td> <td>   -1.656</td> <td>   -0.319</td>\n",
       "</tr>\n",
       "<tr>\n",
       "  <th>Family</th>              <td>    0.5981</td> <td>    0.700</td> <td>    0.855</td> <td> 0.393</td> <td>   -0.773</td> <td>    1.969</td>\n",
       "</tr>\n",
       "<tr>\n",
       "  <th>primary_tumour_site</th> <td>   -0.0598</td> <td>    0.182</td> <td>   -0.328</td> <td> 0.743</td> <td>   -0.417</td> <td>    0.298</td>\n",
       "</tr>\n",
       "<tr>\n",
       "  <th>tumour_stage</th>        <td>    0.3274</td> <td>    0.337</td> <td>    0.972</td> <td> 0.331</td> <td>   -0.333</td> <td>    0.987</td>\n",
       "</tr>\n",
       "</table>"
      ],
      "text/plain": [
       "<class 'statsmodels.iolib.summary.Summary'>\n",
       "\"\"\"\n",
       "                           Logit Regression Results                           \n",
       "==============================================================================\n",
       "Dep. Variable:          v0_episodiETV   No. Observations:                  391\n",
       "Model:                          Logit   Df Residuals:                      383\n",
       "Method:                           MLE   Df Model:                            7\n",
       "Date:                Thu, 08 Apr 2021   Pseudo R-squ.:                 -0.1438\n",
       "Time:                        11:46:09   Log-Likelihood:                -121.06\n",
       "converged:                       True   LL-Null:                       -105.84\n",
       "Covariance Type:            nonrobust   LLR p-value:                     1.000\n",
       "=======================================================================================\n",
       "                          coef    std err          z      P>|z|      [0.025      0.975]\n",
       "---------------------------------------------------------------------------------------\n",
       "rs2232698            -110.7782   9.41e+23  -1.18e-22      1.000   -1.84e+24    1.84e+24\n",
       "rs6025                  1.1337      0.857      1.323      0.186      -0.546       2.814\n",
       "rs5985                 -0.3992      0.291     -1.371      0.170      -0.970       0.171\n",
       "rs4524                 -1.1911      0.179     -6.655      0.000      -1.542      -0.840\n",
       "bmi                    -0.9874      0.341     -2.896      0.004      -1.656      -0.319\n",
       "Family                  0.5981      0.700      0.855      0.393      -0.773       1.969\n",
       "primary_tumour_site    -0.0598      0.182     -0.328      0.743      -0.417       0.298\n",
       "tumour_stage            0.3274      0.337      0.972      0.331      -0.333       0.987\n",
       "=======================================================================================\n",
       "\"\"\""
      ]
     },
     "execution_count": 109,
     "metadata": {},
     "output_type": "execute_result"
    }
   ],
   "source": [
    "model.summary()"
   ]
  },
  {
   "cell_type": "code",
   "execution_count": 139,
   "metadata": {},
   "outputs": [],
   "source": [
    "y_pred = model.predict(X)"
   ]
  },
  {
   "cell_type": "code",
   "execution_count": 132,
   "metadata": {},
   "outputs": [
    {
     "name": "stdout",
     "output_type": "stream",
     "text": [
      "0.502770083102493\n"
     ]
    }
   ],
   "source": [
    "fpr, tpr, thresholds = roc_curve(y, y_pred)\n",
    "roc_auc = auc(fpr, tpr)\n",
    "print(roc_auc)"
   ]
  },
  {
   "cell_type": "code",
   "execution_count": 133,
   "metadata": {},
   "outputs": [
    {
     "data": {
      "image/png": "[encoded data removed]",
      "text/plain": [
       "<Figure size 432x288 with 1 Axes>"
      ]
     },
     "metadata": {
      "needs_background": "light"
     },
     "output_type": "display_data"
    }
   ],
   "source": [
    "plt.title('Receiver Operating Characteristic')\n",
    "plt.plot(fpr, tpr, 'b', label = 'AUC = %0.2f' % roc_auc)\n",
    "plt.legend(loc = 'lower right')\n",
    "plt.plot([0, 1], [0, 1],'r--')\n",
    "plt.xlim([0, 1])\n",
    "plt.ylim([0, 1])\n",
    "plt.ylabel('True Positive Rate')\n",
    "plt.xlabel('False Positive Rate')\n",
    "plt.show()"
   ]
  },
  {
   "cell_type": "code",
   "execution_count": 138,
   "metadata": {},
   "outputs": [
    {
     "name": "stdout",
     "output_type": "stream",
     "text": [
      "0.7894736842105263\n",
      "0.16109879702363034\n"
     ]
    }
   ],
   "source": [
    "print((1-fpr)[24]) # FPR = 1-specificity\n",
    "threshold = thresholds[24] # threshold (specificity ~ 80%)\n",
    "print(threshold)"
   ]
  },
  {
   "cell_type": "code",
   "execution_count": 151,
   "metadata": {},
   "outputs": [
    {
     "name": "stdout",
     "output_type": "stream",
     "text": [
      "Accuracy (%): 74.68\n"
     ]
    }
   ],
   "source": [
    "y_hat = y_pred >= threshold\n",
    "acc = sum(y_hat == y) / len(y)\n",
    "print(\"Accuracy (%):\", round(acc*100, 2))"
   ]
  },
  {
   "cell_type": "code",
   "execution_count": 152,
   "metadata": {},
   "outputs": [
    {
     "data": {
      "text/plain": [
       "array([[285,  76],\n",
       "       [ 23,   7]], dtype=int64)"
      ]
     },
     "execution_count": 152,
     "metadata": {},
     "output_type": "execute_result"
    }
   ],
   "source": [
    "tn, fp, fn, tp = confusion_matrix(y, y_hat).ravel()\n",
    "confusion_matrix(y, y_hat)"
   ]
  },
  {
   "cell_type": "code",
   "execution_count": 153,
   "metadata": {},
   "outputs": [],
   "source": [
    "sensivity = tp / (tp+fn)\n",
    "specificity = tn / (fp+tn)\n",
    "PPV = tp / (tp+fp)\n",
    "NPV = tn / (fn+tn)"
   ]
  },
  {
   "cell_type": "code",
   "execution_count": 154,
   "metadata": {},
   "outputs": [
    {
     "name": "stdout",
     "output_type": "stream",
     "text": [
      "Sensivity (%): 23.33\n",
      "Specificity (%): 78.95\n",
      "PPV (%): 8.43\n",
      "NPV (%): 92.53\n"
     ]
    }
   ],
   "source": [
    "print(\"Sensivity (%):\", round(sensivity*100,2))\n",
    "print(\"Specificity (%):\", round(specificity,4)*100)\n",
    "print(\"PPV (%):\", round(PPV,4)*100)\n",
    "print(\"NPV (%):\", round(NPV,4)*100)"
   ]
  },
  {
   "cell_type": "markdown",
   "metadata": {},
   "source": [
    "### Evaluating Khorana score"
   ]
  },
  {
   "cell_type": "code",
   "execution_count": 54,
   "metadata": {
    "scrolled": false
   },
   "outputs": [
    {
     "data": {
      "text/plain": [
       "391"
      ]
     },
     "execution_count": 54,
     "metadata": {},
     "output_type": "execute_result"
    }
   ],
   "source": [
    "# High risk: Khorana >= 3\n",
    "pred_khorana = [1 if score>=3 else 0 for score in data['khorana']]\n",
    "len(pred_khorana)"
   ]
  },
  {
   "cell_type": "code",
   "execution_count": 77,
   "metadata": {},
   "outputs": [
    {
     "name": "stdout",
     "output_type": "stream",
     "text": [
      "Accuracy (%): 77.49\n"
     ]
    }
   ],
   "source": [
    "acc_khorana = sum(pred_khorana == y) / len(y)\n",
    "print(\"Accuracy (%):\", round(acc_khorana*100, 2))"
   ]
  },
  {
   "cell_type": "code",
   "execution_count": 65,
   "metadata": {},
   "outputs": [
    {
     "data": {
      "text/plain": [
       "array([[295,  66],\n",
       "       [ 22,   8]], dtype=int64)"
      ]
     },
     "execution_count": 65,
     "metadata": {},
     "output_type": "execute_result"
    }
   ],
   "source": [
    "tn, fp, fn, tp = confusion_matrix(y, pred_khorana).ravel()\n",
    "confusion_matrix(y, pred_khorana)"
   ]
  },
  {
   "cell_type": "code",
   "execution_count": 67,
   "metadata": {},
   "outputs": [],
   "source": [
    "sensivity_khorana = tp / (tp+fn)\n",
    "specificity_khorana = tn / (fp+tn)\n",
    "PPV_khorana = tp / (tp+fp)\n",
    "NPV_khorana = tn / (fn+tn) "
   ]
  },
  {
   "cell_type": "code",
   "execution_count": 74,
   "metadata": {},
   "outputs": [
    {
     "name": "stdout",
     "output_type": "stream",
     "text": [
      "Sensivity (%): 26.67\n",
      "Specificity (%): 81.72\n",
      "PPV (%): 10.81\n",
      "NPV (%): 93.06\n"
     ]
    }
   ],
   "source": [
    "print(\"Sensivity (%):\", round(sensivity_khorana*100,2))\n",
    "print(\"Specificity (%):\", round(specificity_khorana,4)*100)\n",
    "print(\"PPV (%):\", round(PPV_khorana,4)*100)\n",
    "print(\"NPV (%):\", round(NPV_khorana,4)*100)"
   ]
  }
 ],
 "metadata": {
  "kernelspec": {
   "display_name": "Python 3",
   "language": "python",
   "name": "python3"
  },
  "language_info": {
   "codemirror_mode": {
    "name": "ipython",
    "version": 3
   },
   "file_extension": ".py",
   "mimetype": "text/x-python",
   "name": "python",
   "nbconvert_exporter": "python",
   "pygments_lexer": "ipython3",
   "version": "3.8.3"
  }
 },
 "nbformat": 4,
 "nbformat_minor": 4
}
