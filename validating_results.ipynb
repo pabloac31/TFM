{
 "cells": [
  {
   "cell_type": "code",
   "execution_count": 1,
   "id": "b22f1b5c",
   "metadata": {},
   "outputs": [],
   "source": [
    "import pandas as pd\n",
    "from sklearn.linear_model import LogisticRegression\n",
    "from utils import test_model, test_model_bootstrap\n",
    "from utils import test_khorana, test_khorana_bootstrap"
   ]
  },
  {
   "cell_type": "code",
   "execution_count": 2,
   "id": "04e40062",
   "metadata": {},
   "outputs": [],
   "source": [
    "SEED = 1997 # for reproducibility"
   ]
  },
  {
   "cell_type": "markdown",
   "id": "ea6574ed",
   "metadata": {},
   "source": [
    "### Loading the data"
   ]
  },
  {
   "cell_type": "code",
   "execution_count": 3,
   "id": "33f62566",
   "metadata": {},
   "outputs": [
    {
     "data": {
      "text/plain": [
       "(391, 12)"
      ]
     },
     "execution_count": 3,
     "metadata": {},
     "output_type": "execute_result"
    }
   ],
   "source": [
    "# reading the data\n",
    "path = 'data/'\n",
    "data = pd.read_csv(path + 'data_TiC_Onco.csv')\n",
    "data.shape"
   ]
  },
  {
   "cell_type": "code",
   "execution_count": 4,
   "id": "468521a3",
   "metadata": {},
   "outputs": [
    {
     "data": {
      "text/html": [
       "<div>\n",
       "<style scoped>\n",
       "    .dataframe tbody tr th:only-of-type {\n",
       "        vertical-align: middle;\n",
       "    }\n",
       "\n",
       "    .dataframe tbody tr th {\n",
       "        vertical-align: top;\n",
       "    }\n",
       "\n",
       "    .dataframe thead th {\n",
       "        text-align: right;\n",
       "    }\n",
       "</style>\n",
       "<table border=\"1\" class=\"dataframe\">\n",
       "  <thead>\n",
       "    <tr style=\"text-align: right;\">\n",
       "      <th></th>\n",
       "      <th>id</th>\n",
       "      <th>bmi</th>\n",
       "      <th>Family</th>\n",
       "      <th>estadiGrup</th>\n",
       "      <th>khorana</th>\n",
       "      <th>tipusTumor_HR</th>\n",
       "      <th>tipusTumor_VHR</th>\n",
       "      <th>rs2232698</th>\n",
       "      <th>rs6025</th>\n",
       "      <th>rs5985</th>\n",
       "      <th>rs4524</th>\n",
       "      <th>VTE</th>\n",
       "    </tr>\n",
       "  </thead>\n",
       "  <tbody>\n",
       "    <tr>\n",
       "      <th>0</th>\n",
       "      <td>1</td>\n",
       "      <td>1</td>\n",
       "      <td>0</td>\n",
       "      <td>1</td>\n",
       "      <td>2.0</td>\n",
       "      <td>0</td>\n",
       "      <td>0</td>\n",
       "      <td>0</td>\n",
       "      <td>0</td>\n",
       "      <td>1</td>\n",
       "      <td>1</td>\n",
       "      <td>1</td>\n",
       "    </tr>\n",
       "    <tr>\n",
       "      <th>1</th>\n",
       "      <td>14</td>\n",
       "      <td>0</td>\n",
       "      <td>0</td>\n",
       "      <td>0</td>\n",
       "      <td>2.0</td>\n",
       "      <td>0</td>\n",
       "      <td>1</td>\n",
       "      <td>0</td>\n",
       "      <td>0</td>\n",
       "      <td>0</td>\n",
       "      <td>1</td>\n",
       "      <td>0</td>\n",
       "    </tr>\n",
       "    <tr>\n",
       "      <th>2</th>\n",
       "      <td>67</td>\n",
       "      <td>0</td>\n",
       "      <td>0</td>\n",
       "      <td>1</td>\n",
       "      <td>1.0</td>\n",
       "      <td>1</td>\n",
       "      <td>0</td>\n",
       "      <td>0</td>\n",
       "      <td>0</td>\n",
       "      <td>0</td>\n",
       "      <td>2</td>\n",
       "      <td>0</td>\n",
       "    </tr>\n",
       "    <tr>\n",
       "      <th>3</th>\n",
       "      <td>91</td>\n",
       "      <td>0</td>\n",
       "      <td>0</td>\n",
       "      <td>1</td>\n",
       "      <td>0.0</td>\n",
       "      <td>0</td>\n",
       "      <td>0</td>\n",
       "      <td>0</td>\n",
       "      <td>0</td>\n",
       "      <td>0</td>\n",
       "      <td>2</td>\n",
       "      <td>0</td>\n",
       "    </tr>\n",
       "    <tr>\n",
       "      <th>4</th>\n",
       "      <td>68</td>\n",
       "      <td>1</td>\n",
       "      <td>0</td>\n",
       "      <td>1</td>\n",
       "      <td>0.0</td>\n",
       "      <td>0</td>\n",
       "      <td>0</td>\n",
       "      <td>0</td>\n",
       "      <td>0</td>\n",
       "      <td>0</td>\n",
       "      <td>2</td>\n",
       "      <td>1</td>\n",
       "    </tr>\n",
       "  </tbody>\n",
       "</table>\n",
       "</div>"
      ],
      "text/plain": [
       "   id  bmi  Family  estadiGrup  khorana  tipusTumor_HR  tipusTumor_VHR  \\\n",
       "0   1    1       0           1      2.0              0               0   \n",
       "1  14    0       0           0      2.0              0               1   \n",
       "2  67    0       0           1      1.0              1               0   \n",
       "3  91    0       0           1      0.0              0               0   \n",
       "4  68    1       0           1      0.0              0               0   \n",
       "\n",
       "   rs2232698  rs6025  rs5985  rs4524  VTE  \n",
       "0          0       0       1       1    1  \n",
       "1          0       0       0       1    0  \n",
       "2          0       0       0       2    0  \n",
       "3          0       0       0       2    0  \n",
       "4          0       0       0       2    1  "
      ]
     },
     "execution_count": 4,
     "metadata": {},
     "output_type": "execute_result"
    }
   ],
   "source": [
    "data.head()"
   ]
  },
  {
   "cell_type": "code",
   "execution_count": 5,
   "id": "9125f154",
   "metadata": {},
   "outputs": [
    {
     "data": {
      "text/plain": [
       "((391, 9), (391,))"
      ]
     },
     "execution_count": 5,
     "metadata": {},
     "output_type": "execute_result"
    }
   ],
   "source": [
    "# create X,y sets\n",
    "X = data[data.columns.difference(['id','VTE','khorana'])]\n",
    "y = data['VTE']\n",
    "khorana = data['khorana']\n",
    "\n",
    "X.shape, y.shape"
   ]
  },
  {
   "cell_type": "markdown",
   "id": "71ddd19f",
   "metadata": {},
   "source": [
    "### Logistic Regression model"
   ]
  },
  {
   "cell_type": "code",
   "execution_count": 6,
   "id": "13a89e53",
   "metadata": {},
   "outputs": [],
   "source": [
    "lr = LogisticRegression(solver='liblinear', random_state=SEED)"
   ]
  },
  {
   "cell_type": "markdown",
   "id": "25a775e0",
   "metadata": {},
   "source": [
    "### Validating results\n",
    "\n",
    "- Bootstrap approach (paper)"
   ]
  },
  {
   "cell_type": "code",
   "execution_count": 7,
   "id": "8abed241",
   "metadata": {},
   "outputs": [
    {
     "data": {
      "text/html": [
       "<div>\n",
       "<style scoped>\n",
       "    .dataframe tbody tr th:only-of-type {\n",
       "        vertical-align: middle;\n",
       "    }\n",
       "\n",
       "    .dataframe tbody tr th {\n",
       "        vertical-align: top;\n",
       "    }\n",
       "\n",
       "    .dataframe thead th {\n",
       "        text-align: right;\n",
       "    }\n",
       "</style>\n",
       "<table border=\"1\" class=\"dataframe\">\n",
       "  <thead>\n",
       "    <tr style=\"text-align: right;\">\n",
       "      <th></th>\n",
       "      <th>score</th>\n",
       "      <th>mean</th>\n",
       "      <th>95% CI</th>\n",
       "    </tr>\n",
       "  </thead>\n",
       "  <tbody>\n",
       "    <tr>\n",
       "      <th>0</th>\n",
       "      <td>AUC</td>\n",
       "      <td>0.75</td>\n",
       "      <td>(0.7,0.81)</td>\n",
       "    </tr>\n",
       "    <tr>\n",
       "      <th>1</th>\n",
       "      <td>accuracy</td>\n",
       "      <td>0.75</td>\n",
       "      <td>(0.72,0.78)</td>\n",
       "    </tr>\n",
       "    <tr>\n",
       "      <th>2</th>\n",
       "      <td>sensitivity</td>\n",
       "      <td>0.53</td>\n",
       "      <td>(0.39,0.67)</td>\n",
       "    </tr>\n",
       "    <tr>\n",
       "      <th>3</th>\n",
       "      <td>specificity</td>\n",
       "      <td>0.80</td>\n",
       "      <td>(0.79,0.82)</td>\n",
       "    </tr>\n",
       "    <tr>\n",
       "      <th>4</th>\n",
       "      <td>PPV</td>\n",
       "      <td>0.38</td>\n",
       "      <td>(0.3,0.46)</td>\n",
       "    </tr>\n",
       "    <tr>\n",
       "      <th>5</th>\n",
       "      <td>NPV</td>\n",
       "      <td>0.88</td>\n",
       "      <td>(0.84,0.92)</td>\n",
       "    </tr>\n",
       "  </tbody>\n",
       "</table>\n",
       "</div>"
      ],
      "text/plain": [
       "         score  mean       95% CI\n",
       "0          AUC  0.75   (0.7,0.81)\n",
       "1     accuracy  0.75  (0.72,0.78)\n",
       "2  sensitivity  0.53  (0.39,0.67)\n",
       "3  specificity  0.80  (0.79,0.82)\n",
       "4          PPV  0.38   (0.3,0.46)\n",
       "5          NPV  0.88  (0.84,0.92)"
      ]
     },
     "execution_count": 7,
     "metadata": {},
     "output_type": "execute_result"
    }
   ],
   "source": [
    "test_model_bootstrap(lr, X, y)"
   ]
  },
  {
   "cell_type": "markdown",
   "id": "2c17523c",
   "metadata": {},
   "source": [
    "- Our approach (10-fold cross-validation)"
   ]
  },
  {
   "cell_type": "code",
   "execution_count": 8,
   "id": "037085f2",
   "metadata": {},
   "outputs": [
    {
     "data": {
      "image/png": "[encoded data removed]",
      "text/plain": [
       "<Figure size 432x288 with 1 Axes>"
      ]
     },
     "metadata": {
      "needs_background": "light"
     },
     "output_type": "display_data"
    },
    {
     "data": {
      "text/html": [
       "<div>\n",
       "<style scoped>\n",
       "    .dataframe tbody tr th:only-of-type {\n",
       "        vertical-align: middle;\n",
       "    }\n",
       "\n",
       "    .dataframe tbody tr th {\n",
       "        vertical-align: top;\n",
       "    }\n",
       "\n",
       "    .dataframe thead th {\n",
       "        text-align: right;\n",
       "    }\n",
       "</style>\n",
       "<table border=\"1\" class=\"dataframe\">\n",
       "  <thead>\n",
       "    <tr style=\"text-align: right;\">\n",
       "      <th></th>\n",
       "      <th>score</th>\n",
       "      <th>mean</th>\n",
       "      <th>95% CI</th>\n",
       "    </tr>\n",
       "  </thead>\n",
       "  <tbody>\n",
       "    <tr>\n",
       "      <th>0</th>\n",
       "      <td>AUC</td>\n",
       "      <td>0.68</td>\n",
       "      <td>(0.48,0.89)</td>\n",
       "    </tr>\n",
       "    <tr>\n",
       "      <th>1</th>\n",
       "      <td>accuracy</td>\n",
       "      <td>0.71</td>\n",
       "      <td>(0.61,0.81)</td>\n",
       "    </tr>\n",
       "    <tr>\n",
       "      <th>2</th>\n",
       "      <td>sensitivity</td>\n",
       "      <td>0.34</td>\n",
       "      <td>(0,0.71)</td>\n",
       "    </tr>\n",
       "    <tr>\n",
       "      <th>3</th>\n",
       "      <td>specificity</td>\n",
       "      <td>0.80</td>\n",
       "      <td>(0.73,0.86)</td>\n",
       "    </tr>\n",
       "    <tr>\n",
       "      <th>4</th>\n",
       "      <td>PPV</td>\n",
       "      <td>0.27</td>\n",
       "      <td>(0.01,0.52)</td>\n",
       "    </tr>\n",
       "    <tr>\n",
       "      <th>5</th>\n",
       "      <td>NPV</td>\n",
       "      <td>0.84</td>\n",
       "      <td>(0.76,0.92)</td>\n",
       "    </tr>\n",
       "  </tbody>\n",
       "</table>\n",
       "</div>"
      ],
      "text/plain": [
       "         score  mean       95% CI\n",
       "0          AUC  0.68  (0.48,0.89)\n",
       "1     accuracy  0.71  (0.61,0.81)\n",
       "2  sensitivity  0.34     (0,0.71)\n",
       "3  specificity  0.80  (0.73,0.86)\n",
       "4          PPV  0.27  (0.01,0.52)\n",
       "5          NPV  0.84  (0.76,0.92)"
      ]
     },
     "execution_count": 8,
     "metadata": {},
     "output_type": "execute_result"
    }
   ],
   "source": [
    "test_model(lr, X, y)"
   ]
  },
  {
   "cell_type": "markdown",
   "id": "a1d07ba4",
   "metadata": {},
   "source": [
    "### Khorana score"
   ]
  },
  {
   "cell_type": "code",
   "execution_count": 9,
   "id": "2ed49604",
   "metadata": {},
   "outputs": [
    {
     "name": "stdout",
     "output_type": "stream",
     "text": [
      "AUC:  52.68\n",
      "Accuracy (%): 71.1\n",
      "Sensivity (%): 23.29\n",
      "Specificity (%): 82.08\n",
      "PPV (%): 22.97\n",
      "NPV (%): 82.33\n"
     ]
    }
   ],
   "source": [
    "test_khorana(khorana, y)"
   ]
  },
  {
   "cell_type": "code",
   "execution_count": 10,
   "id": "1d3557ec",
   "metadata": {},
   "outputs": [
    {
     "data": {
      "text/html": [
       "<div>\n",
       "<style scoped>\n",
       "    .dataframe tbody tr th:only-of-type {\n",
       "        vertical-align: middle;\n",
       "    }\n",
       "\n",
       "    .dataframe tbody tr th {\n",
       "        vertical-align: top;\n",
       "    }\n",
       "\n",
       "    .dataframe thead th {\n",
       "        text-align: right;\n",
       "    }\n",
       "</style>\n",
       "<table border=\"1\" class=\"dataframe\">\n",
       "  <thead>\n",
       "    <tr style=\"text-align: right;\">\n",
       "      <th></th>\n",
       "      <th>score</th>\n",
       "      <th>mean</th>\n",
       "      <th>95% CI</th>\n",
       "    </tr>\n",
       "  </thead>\n",
       "  <tbody>\n",
       "    <tr>\n",
       "      <th>0</th>\n",
       "      <td>AUC</td>\n",
       "      <td>0.53</td>\n",
       "      <td>(0.49,0.57)</td>\n",
       "    </tr>\n",
       "    <tr>\n",
       "      <th>1</th>\n",
       "      <td>accuracy</td>\n",
       "      <td>0.71</td>\n",
       "      <td>(0.67,0.75)</td>\n",
       "    </tr>\n",
       "    <tr>\n",
       "      <th>2</th>\n",
       "      <td>sensitivity</td>\n",
       "      <td>0.24</td>\n",
       "      <td>(0.16,0.32)</td>\n",
       "    </tr>\n",
       "    <tr>\n",
       "      <th>3</th>\n",
       "      <td>specificity</td>\n",
       "      <td>0.82</td>\n",
       "      <td>(0.78,0.86)</td>\n",
       "    </tr>\n",
       "    <tr>\n",
       "      <th>4</th>\n",
       "      <td>PPV</td>\n",
       "      <td>0.24</td>\n",
       "      <td>(0.16,0.31)</td>\n",
       "    </tr>\n",
       "    <tr>\n",
       "      <th>5</th>\n",
       "      <td>NPV</td>\n",
       "      <td>0.82</td>\n",
       "      <td>(0.78,0.86)</td>\n",
       "    </tr>\n",
       "  </tbody>\n",
       "</table>\n",
       "</div>"
      ],
      "text/plain": [
       "         score  mean       95% CI\n",
       "0          AUC  0.53  (0.49,0.57)\n",
       "1     accuracy  0.71  (0.67,0.75)\n",
       "2  sensitivity  0.24  (0.16,0.32)\n",
       "3  specificity  0.82  (0.78,0.86)\n",
       "4          PPV  0.24  (0.16,0.31)\n",
       "5          NPV  0.82  (0.78,0.86)"
      ]
     },
     "execution_count": 10,
     "metadata": {},
     "output_type": "execute_result"
    }
   ],
   "source": [
    "test_khorana_bootstrap(khorana, y)"
   ]
  }
 ],
 "metadata": {
  "kernelspec": {
   "display_name": "Python 3",
   "language": "python",
   "name": "python3"
  },
  "language_info": {
   "codemirror_mode": {
    "name": "ipython",
    "version": 3
   },
   "file_extension": ".py",
   "mimetype": "text/x-python",
   "name": "python",
   "nbconvert_exporter": "python",
   "pygments_lexer": "ipython3",
   "version": "3.8.8"
  }
 },
 "nbformat": 4,
 "nbformat_minor": 5
}
