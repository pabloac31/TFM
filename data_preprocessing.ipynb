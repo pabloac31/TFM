{
 "cells": [
  {
   "cell_type": "markdown",
   "metadata": {
    "id": "GmCohr5t9cn1"
   },
   "source": [
    "<h1>Data preprocessing</h1>\n",
    "\n",
    "This notebook is used to create all the data files that will be used in the project. "
   ]
  },
  {
   "cell_type": "code",
   "execution_count": 1,
   "metadata": {
    "id": "uai3KompqgaI"
   },
   "outputs": [],
   "source": [
    "import pandas as pd\n",
    "import numpy as np\n",
    "pd.options.mode.chained_assignment = None  # default='warn'"
   ]
  },
  {
   "cell_type": "code",
   "execution_count": 2,
   "metadata": {
    "colab": {
     "base_uri": "https://localhost:8080/"
    },
    "id": "Hm5f7U21qgaP",
    "outputId": "7c72de44-86ea-4fcb-cfe1-d18a6fab603d"
   },
   "outputs": [
    {
     "name": "stdout",
     "output_type": "stream",
     "text": [
      "(408, 92)\n"
     ]
    }
   ],
   "source": [
    "# read data file\n",
    "path = 'data/'\n",
    "data = pd.read_excel(path + 'Oncothromb_bbddMarzo2018.xlsx')\n",
    "print(data.shape)"
   ]
  },
  {
   "cell_type": "code",
   "execution_count": 3,
   "metadata": {
    "colab": {
     "base_uri": "https://localhost:8080/"
    },
    "id": "MhnVNCbWqgaR",
    "outputId": "781f99ac-bbc9-4c82-bf6e-59660a608d5d"
   },
   "outputs": [
    {
     "data": {
      "text/plain": [
       "(391, 92)"
      ]
     },
     "execution_count": 3,
     "metadata": {},
     "output_type": "execute_result"
    }
   ],
   "source": [
    "# using rows where excluido==0\n",
    "data = data[data['excluido']==0]\n",
    "data.shape"
   ]
  },
  {
   "cell_type": "markdown",
   "metadata": {
    "id": "LhGxzvlW9zcG"
   },
   "source": [
    "## Using the variables considered in the TiC-Onco score"
   ]
  },
  {
   "cell_type": "markdown",
   "metadata": {},
   "source": [
    "<img src=\"images/table3.png\" alt=\"\" width=\"400\"/>"
   ]
  },
  {
   "cell_type": "markdown",
   "metadata": {},
   "source": [
    "- I have considered *lung* as high risk ```HR``` tumour site and *stomach, pancreas* as very high risk ```VHR``` primary tumour sites.\n",
    "- ```Tumour stage``` is 1 for stage 4 tumours and 0 elsewhere."
   ]
  },
  {
   "cell_type": "code",
   "execution_count": 4,
   "metadata": {
    "colab": {
     "base_uri": "https://localhost:8080/"
    },
    "id": "qsIqnDBUqgaT",
    "outputId": "2fc2f0f5-4d67-4589-b6b2-090366a83241"
   },
   "outputs": [
    {
     "data": {
      "text/plain": [
       "(391, 6)"
      ]
     },
     "execution_count": 4,
     "metadata": {},
     "output_type": "execute_result"
    }
   ],
   "source": [
    "# clinical variables -> BMI, Family history, Primary tumour site and Tumour stage\n",
    "clinical_vars = ['id','bmi','Family','tipusTumor_desc','estadiGrup','khorana'] # khorana is included for comparison purposes\n",
    "df_clinical = data[clinical_vars]\n",
    "df_clinical.shape"
   ]
  },
  {
   "cell_type": "code",
   "execution_count": 5,
   "metadata": {
    "colab": {
     "base_uri": "https://localhost:8080/"
    },
    "id": "X5kIt-RA-TT3",
    "outputId": "f48de444-b76b-4a7c-ede8-1fd750260a7c"
   },
   "outputs": [
    {
     "data": {
      "text/plain": [
       "id                 0\n",
       "bmi                0\n",
       "Family             0\n",
       "tipusTumor_desc    0\n",
       "estadiGrup         0\n",
       "khorana            1\n",
       "dtype: int64"
      ]
     },
     "execution_count": 5,
     "metadata": {},
     "output_type": "execute_result"
    }
   ],
   "source": [
    "df_clinical.isna().sum() # check NaNs"
   ]
  },
  {
   "cell_type": "code",
   "execution_count": 6,
   "metadata": {
    "id": "y_swcE5yqgaV"
   },
   "outputs": [],
   "source": [
    "# preprocessing clinical data \n",
    "\n",
    "# BMI >25\n",
    "df_clinical['bmi'].replace(['Underweight: BMI < 18.5 Kg/m2','Normal: BMI ~ 18.5-24.9 Kg/m2'], 0, inplace=True)\n",
    "df_clinical['bmi'].replace(['Overweight: BMI ~25-29.9 Kg/m2','Obese: BMI > 30 kg/m2'], 1, inplace=True)\n",
    "\n",
    "# HR / VHR\n",
    "df_clinical['tipusTumor_HR'] = [1 if t=='Cáncer de pulmón no microcítico' else 0 for t in df_clinical['tipusTumor_desc']]\n",
    "df_clinical['tipusTumor_VHR'] = [1 if t in ['Cáncer de páncreas','Cáncer gástrico o de estómago'] else 0 for t in df_clinical['tipusTumor_desc']]\n",
    "df_clinical.drop('tipusTumor_desc', axis=1, inplace=True)\n",
    "\n",
    "# Tumour stage\n",
    "df_clinical['estadiGrup'].replace(['IA','IB','IIA','IIB','IIC','III','IIIA','IIIB','IIIC'],0, inplace=True)\n",
    "df_clinical['estadiGrup'].replace(['IV','IVA','IVB'],1, inplace=True)"
   ]
  },
  {
   "cell_type": "code",
   "execution_count": 7,
   "metadata": {
    "colab": {
     "base_uri": "https://localhost:8080/",
     "height": 203
    },
    "id": "Tyt6qQgDqgaX",
    "outputId": "1e3d2eb9-2915-4f17-ac57-776f79efaa2d"
   },
   "outputs": [
    {
     "data": {
      "text/html": [
       "<div>\n",
       "<style scoped>\n",
       "    .dataframe tbody tr th:only-of-type {\n",
       "        vertical-align: middle;\n",
       "    }\n",
       "\n",
       "    .dataframe tbody tr th {\n",
       "        vertical-align: top;\n",
       "    }\n",
       "\n",
       "    .dataframe thead th {\n",
       "        text-align: right;\n",
       "    }\n",
       "</style>\n",
       "<table border=\"1\" class=\"dataframe\">\n",
       "  <thead>\n",
       "    <tr style=\"text-align: right;\">\n",
       "      <th></th>\n",
       "      <th>id</th>\n",
       "      <th>bmi</th>\n",
       "      <th>Family</th>\n",
       "      <th>estadiGrup</th>\n",
       "      <th>khorana</th>\n",
       "      <th>tipusTumor_HR</th>\n",
       "      <th>tipusTumor_VHR</th>\n",
       "    </tr>\n",
       "  </thead>\n",
       "  <tbody>\n",
       "    <tr>\n",
       "      <th>1</th>\n",
       "      <td>1</td>\n",
       "      <td>1</td>\n",
       "      <td>0</td>\n",
       "      <td>1</td>\n",
       "      <td>2.0</td>\n",
       "      <td>0</td>\n",
       "      <td>0</td>\n",
       "    </tr>\n",
       "    <tr>\n",
       "      <th>2</th>\n",
       "      <td>14</td>\n",
       "      <td>0</td>\n",
       "      <td>0</td>\n",
       "      <td>0</td>\n",
       "      <td>2.0</td>\n",
       "      <td>0</td>\n",
       "      <td>1</td>\n",
       "    </tr>\n",
       "    <tr>\n",
       "      <th>3</th>\n",
       "      <td>67</td>\n",
       "      <td>0</td>\n",
       "      <td>0</td>\n",
       "      <td>1</td>\n",
       "      <td>1.0</td>\n",
       "      <td>1</td>\n",
       "      <td>0</td>\n",
       "    </tr>\n",
       "    <tr>\n",
       "      <th>4</th>\n",
       "      <td>91</td>\n",
       "      <td>0</td>\n",
       "      <td>0</td>\n",
       "      <td>1</td>\n",
       "      <td>0.0</td>\n",
       "      <td>0</td>\n",
       "      <td>0</td>\n",
       "    </tr>\n",
       "    <tr>\n",
       "      <th>5</th>\n",
       "      <td>68</td>\n",
       "      <td>1</td>\n",
       "      <td>0</td>\n",
       "      <td>1</td>\n",
       "      <td>0.0</td>\n",
       "      <td>0</td>\n",
       "      <td>0</td>\n",
       "    </tr>\n",
       "  </tbody>\n",
       "</table>\n",
       "</div>"
      ],
      "text/plain": [
       "   id  bmi  Family  estadiGrup  khorana  tipusTumor_HR  tipusTumor_VHR\n",
       "1   1    1       0           1      2.0              0               0\n",
       "2  14    0       0           0      2.0              0               1\n",
       "3  67    0       0           1      1.0              1               0\n",
       "4  91    0       0           1      0.0              0               0\n",
       "5  68    1       0           1      0.0              0               0"
      ]
     },
     "execution_count": 7,
     "metadata": {},
     "output_type": "execute_result"
    }
   ],
   "source": [
    "df_clinical.head()"
   ]
  },
  {
   "cell_type": "code",
   "execution_count": 8,
   "metadata": {
    "colab": {
     "base_uri": "https://localhost:8080/"
    },
    "id": "HQdjuIJtqgaY",
    "outputId": "78750545-7049-42e9-af9b-391139a1f619"
   },
   "outputs": [
    {
     "data": {
      "text/plain": [
       "(391, 5)"
      ]
     },
     "execution_count": 8,
     "metadata": {},
     "output_type": "execute_result"
    }
   ],
   "source": [
    "# genetic variables -> rs2232698, rs6025, rs5985, rs4524\n",
    "genetic_vars = ['id','rs2232698','rs6025','rs5985','rs4524']\n",
    "df_genetic = data[genetic_vars]\n",
    "df_genetic.shape"
   ]
  },
  {
   "cell_type": "code",
   "execution_count": 9,
   "metadata": {
    "id": "rrWvVjtbqgaY"
   },
   "outputs": [],
   "source": [
    "df_genetic.replace('NoCall', np.NaN, inplace=True) # convert NoCall to NaN"
   ]
  },
  {
   "cell_type": "code",
   "execution_count": 10,
   "metadata": {
    "colab": {
     "base_uri": "https://localhost:8080/"
    },
    "id": "_islvMFDqgaZ",
    "outputId": "6f69dfc4-8dc8-45c8-af8f-ef58946d5017"
   },
   "outputs": [
    {
     "data": {
      "text/plain": [
       "id           0\n",
       "rs2232698    1\n",
       "rs6025       0\n",
       "rs5985       0\n",
       "rs4524       0\n",
       "dtype: int64"
      ]
     },
     "execution_count": 10,
     "metadata": {},
     "output_type": "execute_result"
    }
   ],
   "source": [
    "df_genetic.isna().sum() # check NaNs"
   ]
  },
  {
   "cell_type": "code",
   "execution_count": 11,
   "metadata": {
    "id": "U2tp-9zFqgaZ"
   },
   "outputs": [],
   "source": [
    "df_genetic.fillna('CC', inplace=True) # input missing value with 'CC' (the mode)"
   ]
  },
  {
   "cell_type": "code",
   "execution_count": 12,
   "metadata": {
    "id": "aMYx_5hXqgab"
   },
   "outputs": [],
   "source": [
    "# preprocessing genetic variables (number of risk alelles)\n",
    "df_genetic['rs2232698'].replace(['CC','CT'], [0,1], inplace=True)\n",
    "df_genetic['rs6025'].replace(['GG','AG'], [0,1], inplace=True)\n",
    "df_genetic['rs5985'].replace(['GG','GT','TT'], [0,1,2], inplace=True)\n",
    "df_genetic['rs4524'].replace(['CC','CT','TT'], [0,1,2], inplace=True)"
   ]
  },
  {
   "cell_type": "code",
   "execution_count": 13,
   "metadata": {
    "colab": {
     "base_uri": "https://localhost:8080/",
     "height": 203
    },
    "id": "1-YFu_WZqgac",
    "outputId": "ee3f7387-5bfe-416c-d53b-275eb8830e1d"
   },
   "outputs": [
    {
     "data": {
      "text/html": [
       "<div>\n",
       "<style scoped>\n",
       "    .dataframe tbody tr th:only-of-type {\n",
       "        vertical-align: middle;\n",
       "    }\n",
       "\n",
       "    .dataframe tbody tr th {\n",
       "        vertical-align: top;\n",
       "    }\n",
       "\n",
       "    .dataframe thead th {\n",
       "        text-align: right;\n",
       "    }\n",
       "</style>\n",
       "<table border=\"1\" class=\"dataframe\">\n",
       "  <thead>\n",
       "    <tr style=\"text-align: right;\">\n",
       "      <th></th>\n",
       "      <th>id</th>\n",
       "      <th>rs2232698</th>\n",
       "      <th>rs6025</th>\n",
       "      <th>rs5985</th>\n",
       "      <th>rs4524</th>\n",
       "    </tr>\n",
       "  </thead>\n",
       "  <tbody>\n",
       "    <tr>\n",
       "      <th>1</th>\n",
       "      <td>1</td>\n",
       "      <td>0</td>\n",
       "      <td>0</td>\n",
       "      <td>1</td>\n",
       "      <td>1</td>\n",
       "    </tr>\n",
       "    <tr>\n",
       "      <th>2</th>\n",
       "      <td>14</td>\n",
       "      <td>0</td>\n",
       "      <td>0</td>\n",
       "      <td>0</td>\n",
       "      <td>1</td>\n",
       "    </tr>\n",
       "    <tr>\n",
       "      <th>3</th>\n",
       "      <td>67</td>\n",
       "      <td>0</td>\n",
       "      <td>0</td>\n",
       "      <td>0</td>\n",
       "      <td>2</td>\n",
       "    </tr>\n",
       "    <tr>\n",
       "      <th>4</th>\n",
       "      <td>91</td>\n",
       "      <td>0</td>\n",
       "      <td>0</td>\n",
       "      <td>0</td>\n",
       "      <td>2</td>\n",
       "    </tr>\n",
       "    <tr>\n",
       "      <th>5</th>\n",
       "      <td>68</td>\n",
       "      <td>0</td>\n",
       "      <td>0</td>\n",
       "      <td>0</td>\n",
       "      <td>2</td>\n",
       "    </tr>\n",
       "  </tbody>\n",
       "</table>\n",
       "</div>"
      ],
      "text/plain": [
       "   id  rs2232698  rs6025  rs5985  rs4524\n",
       "1   1          0       0       1       1\n",
       "2  14          0       0       0       1\n",
       "3  67          0       0       0       2\n",
       "4  91          0       0       0       2\n",
       "5  68          0       0       0       2"
      ]
     },
     "execution_count": 13,
     "metadata": {},
     "output_type": "execute_result"
    }
   ],
   "source": [
    "df_genetic.head()"
   ]
  },
  {
   "cell_type": "code",
   "execution_count": 14,
   "metadata": {
    "colab": {
     "base_uri": "https://localhost:8080/"
    },
    "id": "-G9N0Cs1qgac",
    "outputId": "f8d51f91-a079-4ad0-f9b5-8e11b1b30555",
    "scrolled": true
   },
   "outputs": [
    {
     "data": {
      "text/plain": [
       "(391, 11)"
      ]
     },
     "execution_count": 14,
     "metadata": {},
     "output_type": "execute_result"
    }
   ],
   "source": [
    "# merge both dataframes (clinical & genetic)\n",
    "ids = list(set(df_clinical['id'].values) & set(df_genetic['id'].values))\n",
    "df = df_clinical[df_clinical['id'].isin(ids)].merge(df_genetic[df_genetic['id'].isin(ids)], on=['id'])\n",
    "df.shape"
   ]
  },
  {
   "cell_type": "markdown",
   "metadata": {},
   "source": [
    "### Target variable"
   ]
  },
  {
   "cell_type": "markdown",
   "metadata": {},
   "source": [
    "Target variable ```caseAtVisit``` indicates whether patients suffered VTE during the monitoring period:\n",
    "- ```caseAtVisit==0```: VTE at 0 months\n",
    "- ```caseAtVisit==1```: VTE at 6 months\n",
    "- ```caseAtVisit==2```: VTE at 12 months\n",
    "- ```caseAtVisit==3```: VTE at 18 months\n",
    "- ```caseAtVisit==NaN```: No VTE\n",
    "\n",
    "Here we consider ```y=1``` if the patient suffered an VTE within the first 6 months (```caseAtVisit==0``` or ```caseAtVisit==1```) and ```y=0``` elsewhere."
   ]
  },
  {
   "cell_type": "code",
   "execution_count": 15,
   "metadata": {
    "colab": {
     "base_uri": "https://localhost:8080/"
    },
    "id": "ppudHiPGqgad",
    "outputId": "b01a1f66-87e5-4963-d98b-b86d0ff0ae50"
   },
   "outputs": [
    {
     "data": {
      "text/plain": [
       "0    318\n",
       "1     73\n",
       "dtype: int64"
      ]
     },
     "execution_count": 15,
     "metadata": {},
     "output_type": "execute_result"
    }
   ],
   "source": [
    "# target variable\n",
    "y = data[data['id'].isin(ids)]['caseAtVisit']\n",
    "y = pd.Series([1 if x in [0,1] else 0 for x in y])\n",
    "y.value_counts()"
   ]
  },
  {
   "cell_type": "code",
   "execution_count": 16,
   "metadata": {
    "colab": {
     "base_uri": "https://localhost:8080/",
     "height": 203
    },
    "id": "aShjzJtxqgae",
    "outputId": "1b27274b-dd78-4852-a2ee-a2a5b1cd9a28"
   },
   "outputs": [
    {
     "data": {
      "text/html": [
       "<div>\n",
       "<style scoped>\n",
       "    .dataframe tbody tr th:only-of-type {\n",
       "        vertical-align: middle;\n",
       "    }\n",
       "\n",
       "    .dataframe tbody tr th {\n",
       "        vertical-align: top;\n",
       "    }\n",
       "\n",
       "    .dataframe thead th {\n",
       "        text-align: right;\n",
       "    }\n",
       "</style>\n",
       "<table border=\"1\" class=\"dataframe\">\n",
       "  <thead>\n",
       "    <tr style=\"text-align: right;\">\n",
       "      <th></th>\n",
       "      <th>id</th>\n",
       "      <th>bmi</th>\n",
       "      <th>Family</th>\n",
       "      <th>estadiGrup</th>\n",
       "      <th>khorana</th>\n",
       "      <th>tipusTumor_HR</th>\n",
       "      <th>tipusTumor_VHR</th>\n",
       "      <th>rs2232698</th>\n",
       "      <th>rs6025</th>\n",
       "      <th>rs5985</th>\n",
       "      <th>rs4524</th>\n",
       "      <th>VTE</th>\n",
       "    </tr>\n",
       "  </thead>\n",
       "  <tbody>\n",
       "    <tr>\n",
       "      <th>0</th>\n",
       "      <td>1</td>\n",
       "      <td>1</td>\n",
       "      <td>0</td>\n",
       "      <td>1</td>\n",
       "      <td>2.0</td>\n",
       "      <td>0</td>\n",
       "      <td>0</td>\n",
       "      <td>0</td>\n",
       "      <td>0</td>\n",
       "      <td>1</td>\n",
       "      <td>1</td>\n",
       "      <td>1</td>\n",
       "    </tr>\n",
       "    <tr>\n",
       "      <th>1</th>\n",
       "      <td>14</td>\n",
       "      <td>0</td>\n",
       "      <td>0</td>\n",
       "      <td>0</td>\n",
       "      <td>2.0</td>\n",
       "      <td>0</td>\n",
       "      <td>1</td>\n",
       "      <td>0</td>\n",
       "      <td>0</td>\n",
       "      <td>0</td>\n",
       "      <td>1</td>\n",
       "      <td>0</td>\n",
       "    </tr>\n",
       "    <tr>\n",
       "      <th>2</th>\n",
       "      <td>67</td>\n",
       "      <td>0</td>\n",
       "      <td>0</td>\n",
       "      <td>1</td>\n",
       "      <td>1.0</td>\n",
       "      <td>1</td>\n",
       "      <td>0</td>\n",
       "      <td>0</td>\n",
       "      <td>0</td>\n",
       "      <td>0</td>\n",
       "      <td>2</td>\n",
       "      <td>0</td>\n",
       "    </tr>\n",
       "    <tr>\n",
       "      <th>3</th>\n",
       "      <td>91</td>\n",
       "      <td>0</td>\n",
       "      <td>0</td>\n",
       "      <td>1</td>\n",
       "      <td>0.0</td>\n",
       "      <td>0</td>\n",
       "      <td>0</td>\n",
       "      <td>0</td>\n",
       "      <td>0</td>\n",
       "      <td>0</td>\n",
       "      <td>2</td>\n",
       "      <td>0</td>\n",
       "    </tr>\n",
       "    <tr>\n",
       "      <th>4</th>\n",
       "      <td>68</td>\n",
       "      <td>1</td>\n",
       "      <td>0</td>\n",
       "      <td>1</td>\n",
       "      <td>0.0</td>\n",
       "      <td>0</td>\n",
       "      <td>0</td>\n",
       "      <td>0</td>\n",
       "      <td>0</td>\n",
       "      <td>0</td>\n",
       "      <td>2</td>\n",
       "      <td>1</td>\n",
       "    </tr>\n",
       "  </tbody>\n",
       "</table>\n",
       "</div>"
      ],
      "text/plain": [
       "   id  bmi  Family  estadiGrup  khorana  tipusTumor_HR  tipusTumor_VHR  \\\n",
       "0   1    1       0           1      2.0              0               0   \n",
       "1  14    0       0           0      2.0              0               1   \n",
       "2  67    0       0           1      1.0              1               0   \n",
       "3  91    0       0           1      0.0              0               0   \n",
       "4  68    1       0           1      0.0              0               0   \n",
       "\n",
       "   rs2232698  rs6025  rs5985  rs4524  VTE  \n",
       "0          0       0       1       1    1  \n",
       "1          0       0       0       1    0  \n",
       "2          0       0       0       2    0  \n",
       "3          0       0       0       2    0  \n",
       "4          0       0       0       2    1  "
      ]
     },
     "execution_count": 16,
     "metadata": {},
     "output_type": "execute_result"
    }
   ],
   "source": [
    "# add target as a column\n",
    "df['VTE'] = y\n",
    "\n",
    "df.head()"
   ]
  },
  {
   "cell_type": "code",
   "execution_count": 17,
   "metadata": {
    "id": "BGogQWH5qgaf"
   },
   "outputs": [],
   "source": [
    "# save dataframe to file\n",
    "df.to_csv(path+'data_TiC_Onco.csv', index=False)"
   ]
  },
  {
   "cell_type": "code",
   "execution_count": 18,
   "metadata": {
    "colab": {
     "base_uri": "https://localhost:8080/"
    },
    "id": "1DpT0NXkqgaf",
    "outputId": "d866be96-7953-4729-f227-333c1a44c018"
   },
   "outputs": [
    {
     "name": "stdout",
     "output_type": "stream",
     "text": [
      "\n",
      "                      Variable  VTE (n)  VTE (%)  No-VTE (n)  No-VTE (%)\n",
      "0                            N       73    100.0         318       100.0\n",
      "1                       Family        6      8.2          12         3.8\n",
      "2                          bmi       37     50.7         145        45.6\n",
      "3                   estadiGrup       49     67.1         132        41.5\n",
      "4   rs2232698 - 0 risk alleles       69     94.5         313        98.4\n",
      "5    rs2232698 - 1 risk allele        4      5.5           5         1.6\n",
      "6      rs4524 - 0 risk alleles        1      1.4          22         6.9\n",
      "7       rs4524 - 1 risk allele       23     31.5         114        35.8\n",
      "8      rs4524 - 2 risk alleles       49     67.1         182        57.2\n",
      "9      rs5985 - 0 risk alleles       38     52.1         182        57.2\n",
      "10      rs5985 - 1 risk allele       30     41.1         119        37.4\n",
      "11     rs5985 - 2 risk alleles        5      6.8          17         5.3\n",
      "12     rs6025 - 0 risk alleles       70     95.9         312        98.1\n",
      "13      rs6025 - 1 risk allele        3      4.1           6         1.9\n",
      "14               tipusTumor_HR       11     15.1          76        23.9\n",
      "15              tipusTumor_VHR       37     50.7          90        28.3\n"
     ]
    }
   ],
   "source": [
    "from utils import print_summary\n",
    "\n",
    "X = df[df.columns.difference(['id','VTE'])]\n",
    "y = df['VTE']\n",
    "\n",
    "print_summary(X,y) # population characteristics"
   ]
  },
  {
   "cell_type": "code",
   "execution_count": 23,
   "metadata": {},
   "outputs": [
    {
     "data": {
      "image/png": "[encoded data removed]",
      "text/plain": [
       "<Figure size 432x432 with 2 Axes>"
      ]
     },
     "metadata": {
      "needs_background": "light"
     },
     "output_type": "display_data"
    }
   ],
   "source": [
    "from utils import corr_heatmap\n",
    "\n",
    "corr_heatmap(X, figsize=(6,6))"
   ]
  }
 ],
 "metadata": {
  "colab": {
   "collapsed_sections": [],
   "name": "data preprocessing.ipynb",
   "provenance": []
  },
  "kernelspec": {
   "display_name": "Python 3",
   "language": "python",
   "name": "python3"
  },
  "language_info": {
   "codemirror_mode": {
    "name": "ipython",
    "version": 3
   },
   "file_extension": ".py",
   "mimetype": "text/x-python",
   "name": "python",
   "nbconvert_exporter": "python",
   "pygments_lexer": "ipython3",
   "version": "3.8.8"
  }
 },
 "nbformat": 4,
 "nbformat_minor": 1
}
